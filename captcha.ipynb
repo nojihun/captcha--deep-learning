{
  "nbformat": 4,
  "nbformat_minor": 0,
  "metadata": {
    "colab": {
      "name": "Untitled30.ipynb",
      "provenance": [],
      "collapsed_sections": [],
      "machine_shape": "hm",
      "authorship_tag": "ABX9TyPUJyZ6KJYYTn7K2oAJQmSR",
      "include_colab_link": true
    },
    "kernelspec": {
      "name": "python3",
      "display_name": "Python 3"
    },
    "language_info": {
      "name": "python"
    }
  },
  "cells": [
    {
      "cell_type": "markdown",
      "metadata": {
        "id": "view-in-github",
        "colab_type": "text"
      },
      "source": [
        "<a href=\"https://colab.research.google.com/github/nojihun/project1/blob/main/captcha.ipynb\" target=\"_parent\"><img src=\"https://colab.research.google.com/assets/colab-badge.svg\" alt=\"Open In Colab\"/></a>"
      ]
    },
    {
      "cell_type": "code",
      "execution_count": 1,
      "metadata": {
        "id": "cKxpD2b2MWFA"
      },
      "outputs": [],
      "source": [
        "from google.colab import drive\n",
        "import os.path\n",
        "import numpy as np\n",
        "import imageio\n",
        "import cv2\n",
        "from skimage import color, io\n",
        "from sklearn.preprocessing import LabelEncoder, OneHotEncoder\n",
        "import scipy.ndimage as nd\n",
        "from sklearn.model_selection import train_test_split\n",
        "from tensorflow.keras.models import Sequential, Model # <- May Use\n",
        "from tensorflow.keras.layers import Activation, MaxPooling2D, Flatten, Conv2D, Dropout, Dense\n",
        "from keras.preprocessing.image import img_to_array, ImageDataGenerator\n",
        "from PIL import Image\n",
        "from pathlib import Path"
      ]
    },
    {
      "cell_type": "code",
      "source": [
        "drive.mount('/content/drive') # 구글 드라이브에 연동"
      ],
      "metadata": {
        "colab": {
          "base_uri": "https://localhost:8080/"
        },
        "id": "Q_nQCfX8RaRy",
        "outputId": "bf442d6a-7d0a-4341-f0e3-e6fd6492c9bf"
      },
      "execution_count": 2,
      "outputs": [
        {
          "output_type": "stream",
          "name": "stdout",
          "text": [
            "Mounted at /content/drive\n"
          ]
        }
      ]
    },
    {
      "cell_type": "code",
      "source": [
        "directory1 = '/content/drive/MyDrive/captcha'\n",
        "file_list1 = os.listdir(directory1)# 구글 드라이브에서 폴더 읽기\n"
      ],
      "metadata": {
        "id": "CJQujIEdRPYq"
      },
      "execution_count": 3,
      "outputs": []
    },
    {
      "cell_type": "code",
      "source": [
        "X=[] # 이 방법은 이미지를 한 글자씩으로 나누어서 각가을 학습을 시키는 것인데 문제는 이미지의 글자간의 간격이 변화하면 무쓸모가 ㅗ디낟.\n",
        "y=[]\n",
        "\n",
        "# Since there are subfolders inside the input directory, we've used nested loops\n",
        "for dirname, _, filenames in os.walk(directory1):\n",
        "    for filename in filenames[:10000]:\n",
        "        path=os.path.join(dirname, filename) \n",
        "        \n",
        "# Preprocessing the image:\n",
        "# - read image\n",
        "        image = cv2.imread(path,cv2.IMREAD_COLOR)\n",
        "\n",
        "\n",
        "# - Blur: As in one-dimensional signals, images also can be filtered with various low-pass filters (LPF), high-pass filters (HPF), etc.\n",
        "# LPF helps in removing noise, blurring images, etc. HPF filters help in finding edges in images.\n",
        "        image = cv2.GaussianBlur(image, (5,5), 0)\n",
        " \n",
        "\n",
        "# Splitting up the image into sections of each character\n",
        "        x=[image[10:50,20:40],image[10:50,40:60],\n",
        "                 image[10:50,60:80],image[10:50,80:100],image[10:50,100:120]]\n",
        "\n",
        "# Labelling segments with the image name\n",
        "        for i in range(5):\n",
        "            X.append(img_to_array(Image.fromarray(x[i])))\n",
        "            y.append(path[len(path)-9:len(path)-4][i])\n",
        "X=np.array(X)\n",
        "y=np.array(y)\n"
      ],
      "metadata": {
        "id": "lICFHhzFZ9ma"
      },
      "execution_count": null,
      "outputs": []
    },
    {
      "cell_type": "code",
      "source": [
        "X=X.astype('float32')\n",
        "X/=255\n",
        "\n",
        "y_le = LabelEncoder().fit_transform(y)\n",
        "y_ohe = OneHotEncoder(sparse = False).fit_transform(y_le.reshape(len(y_le),1))\n",
        "\n",
        "X_train, X_test, y_train, y_test = train_test_split(X, y_ohe, test_size = 0.2, random_state = 42)\n",
        "\n",
        "row, col = X.shape[1],X.shape[2]\n",
        "categories = y_ohe.shape[1]\n",
        "\n",
        "info = {y_le[i] : y[i] for i in range(len(y))}"
      ],
      "metadata": {
        "id": "ZtQjtccSXq0H"
      },
      "execution_count": null,
      "outputs": []
    },
    {
      "cell_type": "code",
      "source": [
        "y.shape\n",
        "X.shape"
      ],
      "metadata": {
        "colab": {
          "base_uri": "https://localhost:8080/"
        },
        "id": "H4WrbpsnZOoY",
        "outputId": "b0269381-9dcb-4122-afbe-c47b8f7b7071"
      },
      "execution_count": null,
      "outputs": [
        {
          "output_type": "execute_result",
          "data": {
            "text/plain": [
              "(50000, 30, 20, 3)"
            ]
          },
          "metadata": {},
          "execution_count": 6
        }
      ]
    },
    {
      "cell_type": "code",
      "source": [
        "model = Sequential()\n",
        "\n",
        "model.add(Conv2D(filters=16,kernel_size=(3,3), padding='same', input_shape=(row,col,3)))\n",
        "model.add(Activation('relu'))\n",
        "model.add(MaxPooling2D(pool_size = (2,2)))\n",
        "\n",
        "\n",
        "model.add(Conv2D(filters=16,kernel_size=(3,3), padding='same'))\n",
        "model.add(Activation('relu'))\n",
        "model.add(MaxPooling2D(pool_size = (2,2), padding ='same'))\n",
        "\n",
        "model.add(Conv2D(filters=64,kernel_size=(3,3), padding='same'))\n",
        "model.add(Activation('relu'))\n",
        "model.add(MaxPooling2D(pool_size = (2,2), padding ='same'))\n",
        "\n",
        "\n",
        "model.add(Conv2D(filters=128,kernel_size=(3,3), padding='same'))\n",
        "model.add(Activation('relu'))\n",
        "model.add(Dropout(0.4))\n",
        "model.add(MaxPooling2D(pool_size = (2,2), padding ='same'))\n",
        "\n",
        "\n",
        "\n",
        "model.add(Flatten())\n",
        "model.add(Dense(categories))\n",
        "model.add(Activation(\"softmax\"))\n",
        "\n",
        "model.compile(loss = 'categorical_crossentropy',\n",
        "              optimizer = 'adam' ,\n",
        "              metrics = ['accuracy'])\n",
        "\n",
        "print(model.summary())"
      ],
      "metadata": {
        "colab": {
          "base_uri": "https://localhost:8080/"
        },
        "id": "Q0XK_wF7i9is",
        "outputId": "71bf2123-c8f3-4854-d459-99c20d44eebc"
      },
      "execution_count": null,
      "outputs": [
        {
          "output_type": "stream",
          "name": "stdout",
          "text": [
            "Model: \"sequential\"\n",
            "_________________________________________________________________\n",
            " Layer (type)                Output Shape              Param #   \n",
            "=================================================================\n",
            " conv2d (Conv2D)             (None, 30, 20, 16)        448       \n",
            "                                                                 \n",
            " activation (Activation)     (None, 30, 20, 16)        0         \n",
            "                                                                 \n",
            " max_pooling2d (MaxPooling2D  (None, 15, 10, 16)       0         \n",
            " )                                                               \n",
            "                                                                 \n",
            " conv2d_1 (Conv2D)           (None, 15, 10, 16)        2320      \n",
            "                                                                 \n",
            " activation_1 (Activation)   (None, 15, 10, 16)        0         \n",
            "                                                                 \n",
            " max_pooling2d_1 (MaxPooling  (None, 8, 5, 16)         0         \n",
            " 2D)                                                             \n",
            "                                                                 \n",
            " conv2d_2 (Conv2D)           (None, 8, 5, 64)          9280      \n",
            "                                                                 \n",
            " activation_2 (Activation)   (None, 8, 5, 64)          0         \n",
            "                                                                 \n",
            " max_pooling2d_2 (MaxPooling  (None, 4, 3, 64)         0         \n",
            " 2D)                                                             \n",
            "                                                                 \n",
            " conv2d_3 (Conv2D)           (None, 4, 3, 128)         73856     \n",
            "                                                                 \n",
            " activation_3 (Activation)   (None, 4, 3, 128)         0         \n",
            "                                                                 \n",
            " dropout (Dropout)           (None, 4, 3, 128)         0         \n",
            "                                                                 \n",
            " max_pooling2d_3 (MaxPooling  (None, 2, 2, 128)        0         \n",
            " 2D)                                                             \n",
            "                                                                 \n",
            " flatten (Flatten)           (None, 512)               0         \n",
            "                                                                 \n",
            " dense (Dense)               (None, 60)                30780     \n",
            "                                                                 \n",
            " activation_4 (Activation)   (None, 60)                0         \n",
            "                                                                 \n",
            "=================================================================\n",
            "Total params: 116,684\n",
            "Trainable params: 116,684\n",
            "Non-trainable params: 0\n",
            "_________________________________________________________________\n",
            "None\n"
          ]
        }
      ]
    },
    {
      "cell_type": "code",
      "source": [
        "from keras.callbacks import EarlyStopping\n",
        "\n",
        "\n",
        "batch_size = 150\n",
        "epochs = 200\n",
        "es = EarlyStopping(monitor='val_loss', mode='min', patience=50, restore_best_weights=True)\n",
        "history = model.fit(X_train, y_train,\n",
        "          batch_size=batch_size,\n",
        "          epochs=epochs,\n",
        "          validation_data=(X_test, y_test),\n",
        "          callbacks=[es])"
      ],
      "metadata": {
        "colab": {
          "base_uri": "https://localhost:8080/"
        },
        "id": "-xURR9D7i_Qw",
        "outputId": "6955d1bf-7f70-4539-f46d-569724c27953"
      },
      "execution_count": null,
      "outputs": [
        {
          "output_type": "stream",
          "name": "stdout",
          "text": [
            "Epoch 1/200\n",
            "267/267 [==============================] - 30s 108ms/step - loss: 3.8097 - accuracy: 0.0781 - val_loss: 3.5646 - val_accuracy: 0.1300\n",
            "Epoch 2/200\n",
            "267/267 [==============================] - 29s 108ms/step - loss: 3.2294 - accuracy: 0.1934 - val_loss: 3.0106 - val_accuracy: 0.2540\n",
            "Epoch 3/200\n",
            "267/267 [==============================] - 28s 106ms/step - loss: 2.8328 - accuracy: 0.2779 - val_loss: 2.6932 - val_accuracy: 0.3216\n",
            "Epoch 4/200\n",
            "267/267 [==============================] - 29s 108ms/step - loss: 2.5668 - accuracy: 0.3403 - val_loss: 2.4646 - val_accuracy: 0.3812\n",
            "Epoch 5/200\n",
            "267/267 [==============================] - 31s 117ms/step - loss: 2.3807 - accuracy: 0.3862 - val_loss: 2.3389 - val_accuracy: 0.4130\n",
            "Epoch 6/200\n",
            "267/267 [==============================] - 29s 107ms/step - loss: 2.2364 - accuracy: 0.4192 - val_loss: 2.2163 - val_accuracy: 0.4345\n",
            "Epoch 7/200\n",
            "267/267 [==============================] - 29s 108ms/step - loss: 2.1273 - accuracy: 0.4460 - val_loss: 2.1478 - val_accuracy: 0.4521\n",
            "Epoch 8/200\n",
            "267/267 [==============================] - 29s 108ms/step - loss: 2.0330 - accuracy: 0.4661 - val_loss: 2.0708 - val_accuracy: 0.4689\n",
            "Epoch 9/200\n",
            "267/267 [==============================] - 29s 109ms/step - loss: 1.9578 - accuracy: 0.4834 - val_loss: 2.0205 - val_accuracy: 0.4828\n",
            "Epoch 10/200\n",
            "267/267 [==============================] - 29s 110ms/step - loss: 1.8847 - accuracy: 0.5002 - val_loss: 1.9815 - val_accuracy: 0.4881\n",
            "Epoch 11/200\n",
            "267/267 [==============================] - 29s 108ms/step - loss: 1.8207 - accuracy: 0.5140 - val_loss: 1.9453 - val_accuracy: 0.5006\n",
            "Epoch 12/200\n",
            "267/267 [==============================] - 29s 110ms/step - loss: 1.7795 - accuracy: 0.5230 - val_loss: 1.9140 - val_accuracy: 0.5044\n",
            "Epoch 13/200\n",
            "267/267 [==============================] - 29s 109ms/step - loss: 1.7273 - accuracy: 0.5376 - val_loss: 1.8938 - val_accuracy: 0.5037\n",
            "Epoch 14/200\n",
            "267/267 [==============================] - 29s 109ms/step - loss: 1.6731 - accuracy: 0.5477 - val_loss: 1.8845 - val_accuracy: 0.5047\n",
            "Epoch 15/200\n",
            "267/267 [==============================] - 29s 109ms/step - loss: 1.6368 - accuracy: 0.5517 - val_loss: 1.8861 - val_accuracy: 0.5049\n",
            "Epoch 16/200\n",
            "267/267 [==============================] - 29s 110ms/step - loss: 1.5988 - accuracy: 0.5622 - val_loss: 1.8619 - val_accuracy: 0.5139\n",
            "Epoch 17/200\n",
            "267/267 [==============================] - 29s 110ms/step - loss: 1.5623 - accuracy: 0.5741 - val_loss: 1.8475 - val_accuracy: 0.5145\n",
            "Epoch 18/200\n",
            "267/267 [==============================] - 29s 109ms/step - loss: 1.5325 - accuracy: 0.5787 - val_loss: 1.8376 - val_accuracy: 0.5202\n",
            "Epoch 19/200\n",
            "267/267 [==============================] - 29s 109ms/step - loss: 1.5023 - accuracy: 0.5858 - val_loss: 1.8364 - val_accuracy: 0.5236\n",
            "Epoch 20/200\n",
            "267/267 [==============================] - 29s 109ms/step - loss: 1.4695 - accuracy: 0.5934 - val_loss: 1.8418 - val_accuracy: 0.5153\n",
            "Epoch 21/200\n",
            "267/267 [==============================] - 29s 109ms/step - loss: 1.4495 - accuracy: 0.5986 - val_loss: 1.8430 - val_accuracy: 0.5197\n",
            "Epoch 22/200\n",
            "267/267 [==============================] - 29s 109ms/step - loss: 1.4187 - accuracy: 0.6025 - val_loss: 1.8307 - val_accuracy: 0.5210\n",
            "Epoch 23/200\n",
            "267/267 [==============================] - 29s 109ms/step - loss: 1.3918 - accuracy: 0.6070 - val_loss: 1.8317 - val_accuracy: 0.5237\n",
            "Epoch 24/200\n",
            "267/267 [==============================] - 29s 110ms/step - loss: 1.3747 - accuracy: 0.6128 - val_loss: 1.8433 - val_accuracy: 0.5186\n",
            "Epoch 25/200\n",
            "267/267 [==============================] - 29s 110ms/step - loss: 1.3520 - accuracy: 0.6165 - val_loss: 1.8448 - val_accuracy: 0.5202\n",
            "Epoch 26/200\n",
            "267/267 [==============================] - 29s 110ms/step - loss: 1.3287 - accuracy: 0.6230 - val_loss: 1.8522 - val_accuracy: 0.5146\n",
            "Epoch 27/200\n",
            "267/267 [==============================] - 29s 109ms/step - loss: 1.3061 - accuracy: 0.6293 - val_loss: 1.8567 - val_accuracy: 0.5224\n",
            "Epoch 28/200\n",
            "267/267 [==============================] - 29s 110ms/step - loss: 1.2857 - accuracy: 0.6309 - val_loss: 1.8755 - val_accuracy: 0.5177\n",
            "Epoch 29/200\n",
            "267/267 [==============================] - 29s 110ms/step - loss: 1.2704 - accuracy: 0.6351 - val_loss: 1.8627 - val_accuracy: 0.5221\n",
            "Epoch 30/200\n",
            "267/267 [==============================] - 29s 110ms/step - loss: 1.2528 - accuracy: 0.6409 - val_loss: 1.8516 - val_accuracy: 0.5235\n",
            "Epoch 31/200\n",
            "267/267 [==============================] - 29s 109ms/step - loss: 1.2383 - accuracy: 0.6439 - val_loss: 1.8728 - val_accuracy: 0.5208\n",
            "Epoch 32/200\n",
            "267/267 [==============================] - 29s 110ms/step - loss: 1.2141 - accuracy: 0.6488 - val_loss: 1.8751 - val_accuracy: 0.5217\n",
            "Epoch 33/200\n",
            "267/267 [==============================] - 29s 109ms/step - loss: 1.2080 - accuracy: 0.6465 - val_loss: 1.8835 - val_accuracy: 0.5191\n",
            "Epoch 34/200\n",
            "267/267 [==============================] - 29s 110ms/step - loss: 1.1963 - accuracy: 0.6507 - val_loss: 1.8958 - val_accuracy: 0.5222\n",
            "Epoch 35/200\n",
            "267/267 [==============================] - 29s 110ms/step - loss: 1.1736 - accuracy: 0.6578 - val_loss: 1.9073 - val_accuracy: 0.5163\n",
            "Epoch 36/200\n",
            "267/267 [==============================] - 29s 110ms/step - loss: 1.1608 - accuracy: 0.6597 - val_loss: 1.9020 - val_accuracy: 0.5171\n",
            "Epoch 37/200\n",
            "267/267 [==============================] - 29s 110ms/step - loss: 1.1468 - accuracy: 0.6598 - val_loss: 1.9160 - val_accuracy: 0.5158\n",
            "Epoch 38/200\n",
            "267/267 [==============================] - 29s 110ms/step - loss: 1.1387 - accuracy: 0.6647 - val_loss: 1.9171 - val_accuracy: 0.5185\n",
            "Epoch 39/200\n",
            "267/267 [==============================] - 29s 110ms/step - loss: 1.1245 - accuracy: 0.6686 - val_loss: 1.9292 - val_accuracy: 0.5168\n",
            "Epoch 40/200\n",
            "267/267 [==============================] - 29s 110ms/step - loss: 1.1109 - accuracy: 0.6701 - val_loss: 1.9333 - val_accuracy: 0.5155\n",
            "Epoch 41/200\n",
            "267/267 [==============================] - 29s 110ms/step - loss: 1.1012 - accuracy: 0.6702 - val_loss: 1.9213 - val_accuracy: 0.5175\n",
            "Epoch 42/200\n",
            "267/267 [==============================] - 29s 110ms/step - loss: 1.0897 - accuracy: 0.6761 - val_loss: 1.9770 - val_accuracy: 0.5091\n",
            "Epoch 43/200\n",
            "267/267 [==============================] - 29s 110ms/step - loss: 1.0764 - accuracy: 0.6808 - val_loss: 1.9475 - val_accuracy: 0.5152\n",
            "Epoch 44/200\n",
            "267/267 [==============================] - 29s 110ms/step - loss: 1.0708 - accuracy: 0.6789 - val_loss: 1.9630 - val_accuracy: 0.5140\n",
            "Epoch 45/200\n",
            "267/267 [==============================] - 29s 109ms/step - loss: 1.0582 - accuracy: 0.6816 - val_loss: 1.9665 - val_accuracy: 0.5114\n",
            "Epoch 46/200\n",
            "267/267 [==============================] - 29s 109ms/step - loss: 1.0497 - accuracy: 0.6830 - val_loss: 1.9845 - val_accuracy: 0.5103\n",
            "Epoch 47/200\n",
            "267/267 [==============================] - 29s 109ms/step - loss: 1.0472 - accuracy: 0.6851 - val_loss: 2.0062 - val_accuracy: 0.5154\n",
            "Epoch 48/200\n",
            "267/267 [==============================] - 29s 108ms/step - loss: 1.0313 - accuracy: 0.6892 - val_loss: 1.9755 - val_accuracy: 0.5151\n",
            "Epoch 49/200\n",
            "267/267 [==============================] - 29s 109ms/step - loss: 1.0287 - accuracy: 0.6892 - val_loss: 1.9951 - val_accuracy: 0.5137\n",
            "Epoch 50/200\n",
            "267/267 [==============================] - 29s 108ms/step - loss: 1.0038 - accuracy: 0.6944 - val_loss: 1.9857 - val_accuracy: 0.5161\n",
            "Epoch 51/200\n",
            "267/267 [==============================] - 29s 108ms/step - loss: 1.0029 - accuracy: 0.6954 - val_loss: 2.0320 - val_accuracy: 0.5136\n",
            "Epoch 52/200\n",
            "267/267 [==============================] - 29s 108ms/step - loss: 1.0044 - accuracy: 0.6953 - val_loss: 2.0083 - val_accuracy: 0.5099\n",
            "Epoch 53/200\n",
            "267/267 [==============================] - 29s 109ms/step - loss: 0.9862 - accuracy: 0.7013 - val_loss: 2.0470 - val_accuracy: 0.5067\n",
            "Epoch 54/200\n",
            "267/267 [==============================] - 38s 143ms/step - loss: 0.9813 - accuracy: 0.6984 - val_loss: 2.0522 - val_accuracy: 0.5108\n",
            "Epoch 55/200\n",
            "267/267 [==============================] - 32s 121ms/step - loss: 0.9767 - accuracy: 0.7005 - val_loss: 2.0633 - val_accuracy: 0.5097\n",
            "Epoch 56/200\n",
            "267/267 [==============================] - 29s 109ms/step - loss: 0.9634 - accuracy: 0.7024 - val_loss: 2.0774 - val_accuracy: 0.5051\n",
            "Epoch 57/200\n",
            "267/267 [==============================] - 29s 109ms/step - loss: 0.9480 - accuracy: 0.7109 - val_loss: 2.1021 - val_accuracy: 0.5045\n",
            "Epoch 58/200\n",
            "267/267 [==============================] - 29s 109ms/step - loss: 0.9488 - accuracy: 0.7094 - val_loss: 2.0921 - val_accuracy: 0.5106\n",
            "Epoch 59/200\n",
            "267/267 [==============================] - 29s 109ms/step - loss: 0.9433 - accuracy: 0.7103 - val_loss: 2.0743 - val_accuracy: 0.5107\n",
            "Epoch 60/200\n",
            "267/267 [==============================] - 29s 109ms/step - loss: 0.9329 - accuracy: 0.7124 - val_loss: 2.1093 - val_accuracy: 0.5097\n",
            "Epoch 61/200\n",
            "267/267 [==============================] - 29s 110ms/step - loss: 0.9326 - accuracy: 0.7104 - val_loss: 2.0917 - val_accuracy: 0.5086\n",
            "Epoch 62/200\n",
            "267/267 [==============================] - 30s 111ms/step - loss: 0.9220 - accuracy: 0.7157 - val_loss: 2.1252 - val_accuracy: 0.5043\n",
            "Epoch 63/200\n",
            "267/267 [==============================] - 30s 111ms/step - loss: 0.9153 - accuracy: 0.7133 - val_loss: 2.0921 - val_accuracy: 0.5045\n",
            "Epoch 64/200\n",
            "267/267 [==============================] - 29s 110ms/step - loss: 0.9198 - accuracy: 0.7164 - val_loss: 2.1380 - val_accuracy: 0.5071\n",
            "Epoch 65/200\n",
            "267/267 [==============================] - 30s 111ms/step - loss: 0.9118 - accuracy: 0.7161 - val_loss: 2.1586 - val_accuracy: 0.5061\n",
            "Epoch 66/200\n",
            "267/267 [==============================] - 29s 110ms/step - loss: 0.9050 - accuracy: 0.7181 - val_loss: 2.1485 - val_accuracy: 0.5063\n",
            "Epoch 67/200\n",
            "267/267 [==============================] - 30s 111ms/step - loss: 0.8898 - accuracy: 0.7220 - val_loss: 2.1280 - val_accuracy: 0.5107\n",
            "Epoch 68/200\n",
            "267/267 [==============================] - 29s 111ms/step - loss: 0.8879 - accuracy: 0.7236 - val_loss: 2.1512 - val_accuracy: 0.5007\n",
            "Epoch 69/200\n",
            "267/267 [==============================] - 29s 110ms/step - loss: 0.8881 - accuracy: 0.7226 - val_loss: 2.1882 - val_accuracy: 0.5068\n",
            "Epoch 70/200\n",
            "267/267 [==============================] - 29s 110ms/step - loss: 0.8747 - accuracy: 0.7265 - val_loss: 2.1497 - val_accuracy: 0.5008\n",
            "Epoch 71/200\n",
            "267/267 [==============================] - 29s 109ms/step - loss: 0.8670 - accuracy: 0.7283 - val_loss: 2.2014 - val_accuracy: 0.5026\n",
            "Epoch 72/200\n",
            "267/267 [==============================] - 30s 111ms/step - loss: 0.8704 - accuracy: 0.7308 - val_loss: 2.2280 - val_accuracy: 0.5054\n"
          ]
        }
      ]
    },
    {
      "cell_type": "code",
      "source": [
        "scores = model.evaluate(X_test, y_test, verbose=1)\n",
        "print('Test loss:', scores[0])\n",
        "print('Test accuracy:', scores[1])"
      ],
      "metadata": {
        "colab": {
          "base_uri": "https://localhost:8080/"
        },
        "id": "Jq3CZVZgBIbc",
        "outputId": "6c624fd4-7311-4f30-d0a7-a1ead0b251f8"
      },
      "execution_count": null,
      "outputs": [
        {
          "output_type": "stream",
          "name": "stdout",
          "text": [
            "313/313 [==============================] - 3s 11ms/step - loss: 1.8307 - accuracy: 0.5210\n",
            "Test loss: 1.8307089805603027\n",
            "Test accuracy: 0.5210000276565552\n"
          ]
        }
      ]
    },
    {
      "cell_type": "code",
      "source": [
        "def pred (img_path) :\n",
        "    \n",
        "    img = cv2.imread(img_path, cv2.IMREAD_COLOR)\n",
        "    \n",
        "    plt.imshow(img, cmap='gray')\n",
        "    plt.axis('off')\n",
        "    plt.show()\n",
        "\n",
        "    image = cv2.GaussianBlur(img, (5,5), 0)\n",
        "    \n",
        "    \n",
        "    x = [image[10:50, 30:50], image[10:50, 50:70], image[10:50, 70:90],\n",
        "                  image[10:50, 90:110], image[10:50, 110:130]]\n",
        "    \n",
        "    X_pred = []\n",
        "    for i in range(5) :\n",
        "        X_pred.append(img_to_array(Image.fromarray(x[i])))\n",
        "    \n",
        "    X_pred = np.array(X_pred)\n",
        "    X_pred/= 255.0\n",
        "    \n",
        "    y_pred = model.predict(X_pred)\n",
        "    y_pred = np.argmax(y_pred, axis = 1)\n",
        "    \n",
        "    print('Prediction: ', end='')\n",
        "    for res in y_pred :\n",
        "        print(info[res], end='')\n",
        "        \n",
        "    print('\\nActual:    ', img_path[len(img_path)-9:len(img_path)-4])"
      ],
      "metadata": {
        "id": "2XXB8KLOFLj2"
      },
      "execution_count": null,
      "outputs": []
    },
    {
      "cell_type": "code",
      "source": [
        "import matplotlib.pyplot as plt\n",
        "import matplotlib.image as img\n",
        "from PIL import Image\n",
        "\n",
        "pred(directory1+'/'+'FZmSj.jpg')"
      ],
      "metadata": {
        "colab": {
          "base_uri": "https://localhost:8080/",
          "height": 157
        },
        "id": "71JP2xzPFSgH",
        "outputId": "199b4b45-cab8-431e-ea04-44fbd6e366ba"
      },
      "execution_count": null,
      "outputs": [
        {
          "output_type": "display_data",
          "data": {
            "image/png": "[encoded data removed]",
            "text/plain": [
              "<Figure size 432x288 with 1 Axes>"
            ]
          },
          "metadata": {
            "needs_background": "light"
          }
        },
        {
          "output_type": "stream",
          "name": "stdout",
          "text": [
            "Prediction: FZmJC\n",
            "Actual:     FZmSj\n"
          ]
        }
      ]
    },
    {
      "cell_type": "code",
      "source": [
        "\n",
        "import matplotlib.pyplot as plt\n",
        "import numpy as np\n",
        "import pandas as pd\n",
        "import tensorflow as tf\n",
        "\n",
        "from sklearn.metrics import accuracy_score, precision_score, recall_score\n",
        "from sklearn.model_selection import train_test_split\n",
        "from tensorflow.keras import layers, losses\n",
        "from tensorflow.keras.datasets import fashion_mnist\n",
        "from tensorflow.keras.models import Model\n",
        "from skimage.transform import resize"
      ],
      "metadata": {
        "id": "-aOzP6HT6Znf"
      },
      "execution_count": 4,
      "outputs": []
    },
    {
      "cell_type": "code",
      "source": [
        "img= []\n",
        "count = 0\n",
        "for file in file_list1[:10000]:\n",
        "  image = io.imread(directory1+'/'+ file)\n",
        "  image = resize(image, (32, 128))  \n",
        "  img.append(image)"
      ],
      "metadata": {
        "id": "sPHt7hHh6Za1"
      },
      "execution_count": null,
      "outputs": []
    },
    {
      "cell_type": "code",
      "source": [
        "train = np.array(img)\n",
        "train.shape"
      ],
      "metadata": {
        "id": "o_9jvlK4vDkI"
      },
      "execution_count": null,
      "outputs": []
    },
    {
      "cell_type": "code",
      "source": [
        "train = np.resize(train, (10000, 34,128,3))"
      ],
      "metadata": {
        "id": "_NJdAS9Q5N_z"
      },
      "execution_count": null,
      "outputs": []
    },
    {
      "cell_type": "code",
      "source": [
        "n = 10\n",
        "plt.figure(figsize=(20, 2))\n",
        "for i in range(n):\n",
        "    ax = plt.subplot(1, n, i + 1)\n",
        "    plt.title(\"original + noise\")\n",
        "    plt.imshow(tf.squeeze(train[i]))\n",
        "    plt.gray()\n",
        "plt.show()"
      ],
      "metadata": {
        "id": "qjt1u28Z4JYi"
      },
      "execution_count": null,
      "outputs": []
    },
    {
      "cell_type": "code",
      "source": [
        ""
      ],
      "metadata": {
        "id": "EqaxjanF0z9R"
      },
      "execution_count": null,
      "outputs": []
    },
    {
      "cell_type": "code",
      "source": [
        "from PIL import Image, ImageDraw, ImageFont\n",
        "import numpy as np\n",
        "\n",
        "# gfg_logo.jpeg image opened using open\n",
        "# function and assigned to variable named img\n",
        "img = Image.open('/content/drive/MyDrive/white.jpg')\n",
        "img = img.resize((150,40))\n",
        "# Image is converted into editable form using\n",
        "# Draw function and assigned to d1\n",
        "d1 = ImageDraw.Draw(img)\n",
        "fontsize = 36\n",
        "font = ImageFont.truetype(\"/content/drive/MyDrive/arial.ttf\", fontsize)\n",
        "# Decide the text location, color and font\n",
        "d1.text((20, 0), \"Fg1zg\", fill =(0, 0, 0), font = font)\n",
        " \n",
        "# show and save the image\n",
        "img.show()\n",
        "img.save(\"/content/drive/MyDrive/results.jpg\")\n"
      ],
      "metadata": {
        "id": "gVFjOoDn1_mN"
      },
      "execution_count": null,
      "outputs": []
    },
    {
      "cell_type": "code",
      "source": [
        "def image_make(text):\n",
        "  img = Image.open('/content/drive/MyDrive/white.jpg')\n",
        "  img = img.resize((128,32))\n",
        "  d1 = ImageDraw.Draw(img)\n",
        "  fontsize = 36\n",
        "  font = ImageFont.truetype(\"/content/drive/MyDrive/arial.ttf\", fontsize)\n",
        "  d1.text((20, 0), text, fill =(0, 0, 0), font = font)\n",
        "  return img"
      ],
      "metadata": {
        "id": "mLZu2U0_RrWi"
      },
      "execution_count": null,
      "outputs": []
    },
    {
      "cell_type": "code",
      "source": [
        "label = []\n",
        "for i in file_list1[:10000]:\n",
        "  i = i.replace('.jpg','')\n",
        "  img = image_make(i)\n",
        "  img = np.array(img)\n",
        "  label.append(img)\n"
      ],
      "metadata": {
        "id": "FR3HOlNXue_Q"
      },
      "execution_count": null,
      "outputs": []
    },
    {
      "cell_type": "code",
      "source": [
        "label = np.array(label)\n",
        "label.shape"
      ],
      "metadata": {
        "id": "lbYWmjCI16UF"
      },
      "execution_count": null,
      "outputs": []
    },
    {
      "cell_type": "markdown",
      "source": [
        ""
      ],
      "metadata": {
        "id": "xVHSgH9B0xPV"
      }
    },
    {
      "cell_type": "code",
      "source": [
        "pip install -q git+https://github.com/tensorflow/examples.git"
      ],
      "metadata": {
        "id": "ksDMrHPgruSq"
      },
      "execution_count": null,
      "outputs": []
    },
    {
      "cell_type": "code",
      "source": [
        "import tensorflow as tf\n",
        "\n",
        "\n",
        "import tensorflow_datasets as tfds\n",
        "from tensorflow_examples.models.pix2pix import pix2pix\n",
        "\n",
        "import os\n",
        "import time\n",
        "import matplotlib.pyplot as plt\n",
        "from IPython.display import clear_output\n",
        "\n",
        "tfds.disable_progress_bar()\n",
        "AUTOTUNE = tf.data.experimental.AUTOTUNE"
      ],
      "metadata": {
        "id": "l9Ocx-YycMgX"
      },
      "execution_count": null,
      "outputs": []
    },
    {
      "cell_type": "code",
      "source": [
        "dataset, metadata = tfds.load('cycle_gan/horse2zebra',\n",
        "                              with_info=True, as_supervised=True)\n",
        "\n",
        "train_horses, train_zebras = dataset['trainA'], dataset['trainB']\n",
        "test_horses, test_zebras = dataset['testA'], dataset['testB']"
      ],
      "metadata": {
        "id": "8veiymhNt3fH"
      },
      "execution_count": null,
      "outputs": []
    },
    {
      "cell_type": "code",
      "source": [
        "train_horses"
      ],
      "metadata": {
        "id": "PYDeo0wS4aLX",
        "outputId": "bac98e00-306d-4576-8501-47b6df460573",
        "colab": {
          "base_uri": "https://localhost:8080/"
        }
      },
      "execution_count": null,
      "outputs": [
        {
          "output_type": "execute_result",
          "data": {
            "text/plain": [
              "<PrefetchDataset shapes: ((None, None, 3), ()), types: (tf.uint8, tf.int64)>"
            ]
          },
          "metadata": {},
          "execution_count": 53
        }
      ]
    },
    {
      "cell_type": "code",
      "source": [
        ""
      ],
      "metadata": {
        "id": "Q3dwDQXS4Z9p"
      },
      "execution_count": null,
      "outputs": []
    },
    {
      "cell_type": "code",
      "source": [
        "BUFFER_SIZE = 1000\n",
        "BATCH_SIZE = 1\n",
        "IMG_WIDTH = 256\n",
        "IMG_HEIGHT = 256"
      ],
      "metadata": {
        "id": "CB8jCP0lbtPf"
      },
      "execution_count": null,
      "outputs": []
    },
    {
      "cell_type": "code",
      "source": [
        "def random_crop(image):\n",
        "  cropped_image = tf.image.random_crop(\n",
        "      image, size=[IMG_HEIGHT, IMG_WIDTH, 3])\n",
        "\n",
        "  return cropped_image\n",
        "# 이미지의 특정 부위를 랜덤하게 잘라내는 기능\n",
        "\n",
        "\n",
        "# normalizing the images to [-1, 1]\n",
        "def normalize(image):\n",
        "  image = tf.cast(image, tf.float32)\n",
        "  image = (image / 127.5) - 1\n",
        "  return image\n",
        "#이미지의 값의 범위를 0~255가 아니라 -1~1 사이의 값으로 변경하는 기능\n",
        "\n",
        "\n",
        "def random_jitter(image):\n",
        "  # resizing to 286 x 286 x 3\n",
        "  image = tf.image.resize(image, [286, 286],\n",
        "                          method=tf.image.ResizeMethod.NEAREST_NEIGHBOR)\n",
        "\n",
        "  # randomly cropping to 256 x 256 x 3\n",
        "  image = random_crop(image)\n",
        "\n",
        "  # random mirroring\n",
        "  image = tf.image.random_flip_left_right(image)\n",
        "\n",
        "  return image\n",
        "# 지터링, 즉 데이터 사이즈를 키워서 임의의 공간을 잘라내서 flip을 하여, 같은 이미지도 약간씩 모양이 다르도록 하여 마치 데이터 개수가 늘어난 것처럼 하는 데이터 증강 기법\n",
        "\n",
        "\n",
        "def preprocess_image_train(image, label):\n",
        "  image = random_jitter(image)\n",
        "  image = normalize(image)\n",
        "  return image\n",
        "# 지터링과 데이터 normalize를 동시에 적용하는 기능\n",
        "def preprocess_image_test(image, label):\n",
        "  image = normalize(image)\n",
        "  return image\n",
        "# 그냥 normalize만 하는 기능.\n",
        "\n"
      ],
      "metadata": {
        "id": "H64mIugUbtM4"
      },
      "execution_count": null,
      "outputs": []
    },
    {
      "cell_type": "code",
      "source": [
        "train_horses = train_horses.map(\n",
        "    preprocess_image_train, num_parallel_calls=AUTOTUNE).cache().shuffle(\n",
        "    BUFFER_SIZE).batch(1)\n",
        "\n",
        "train_zebras = train_zebras.map(\n",
        "    preprocess_image_train, num_parallel_calls=AUTOTUNE).cache().shuffle(\n",
        "    BUFFER_SIZE).batch(1)\n",
        "\n",
        "test_horses = test_horses.map(\n",
        "    preprocess_image_test, num_parallel_calls=AUTOTUNE).cache().shuffle(\n",
        "    BUFFER_SIZE).batch(1)\n",
        "\n",
        "test_zebras = test_zebras.map(\n",
        "    preprocess_image_test, num_parallel_calls=AUTOTUNE).cache().shuffle(\n",
        "    BUFFER_SIZE).batch(1)"
      ],
      "metadata": {
        "id": "H6zlXlaBtdvv"
      },
      "execution_count": null,
      "outputs": []
    },
    {
      "cell_type": "code",
      "source": [
        "train_horses"
      ],
      "metadata": {
        "id": "GCAk6csR9K-s",
        "outputId": "2f542e18-18c7-4e09-f05e-e425830c9d73",
        "colab": {
          "base_uri": "https://localhost:8080/"
        }
      },
      "execution_count": null,
      "outputs": [
        {
          "output_type": "execute_result",
          "data": {
            "text/plain": [
              "<BatchDataset shapes: (None, 256, 256, 3), types: tf.float32>"
            ]
          },
          "metadata": {},
          "execution_count": 57
        }
      ]
    },
    {
      "cell_type": "code",
      "source": [
        "sample_horse = next(iter(train))\n",
        "sample_zebra = next(iter(label))"
      ],
      "metadata": {
        "id": "3Nu6F41DtqVs"
      },
      "execution_count": null,
      "outputs": []
    },
    {
      "cell_type": "code",
      "source": [
        "plt.subplot(121)\n",
        "plt.title('Horse')\n",
        "plt.imshow(train[0] * 0.5 + 0.5)\n",
        "\n",
        "plt.subplot(122)\n",
        "plt.title('Horse with random jitter')\n",
        "plt.imshow(random_jitter(train[0]) * 0.5 + 0.5)"
      ],
      "metadata": {
        "id": "ilbiEsKo6903",
        "outputId": "6f460a13-c359-4856-9d58-b3b572f3ca9e",
        "colab": {
          "base_uri": "https://localhost:8080/",
          "height": 234
        }
      },
      "execution_count": null,
      "outputs": [
        {
          "output_type": "execute_result",
          "data": {
            "text/plain": [
              "<matplotlib.image.AxesImage at 0x7f10dae260d0>"
            ]
          },
          "metadata": {},
          "execution_count": 59
        },
        {
          "output_type": "display_data",
          "data": {
            "image/png": "[encoded data removed]",
            "text/plain": [
              "<Figure size 432x288 with 2 Axes>"
            ]
          },
          "metadata": {
            "needs_background": "light"
          }
        }
      ]
    },
    {
      "cell_type": "code",
      "source": [
        "plt.subplot(121)\n",
        "plt.title('Horse')\n",
        "plt.imshow(sample_horse[0] * 0.5 + 0.5)\n",
        "\n",
        "plt.subplot(122)\n",
        "plt.title('Horse with random jitter')\n",
        "plt.imshow(random_jitter(sample_horse[0]) * 0.5 + 0.5)"
      ],
      "metadata": {
        "colab": {
          "base_uri": "https://localhost:8080/",
          "height": 627
        },
        "id": "AeVUHaXbbtKG",
        "outputId": "b7230606-8dc0-460a-e260-1aafdc7d6103"
      },
      "execution_count": null,
      "outputs": [
        {
          "output_type": "error",
          "ename": "ValueError",
          "evalue": "ignored",
          "traceback": [
            "\u001b[0;31m---------------------------------------------------------------------------\u001b[0m",
            "\u001b[0;31mValueError\u001b[0m                                Traceback (most recent call last)",
            "\u001b[0;32m<ipython-input-44-38aae8dc804c>\u001b[0m in \u001b[0;36m<module>\u001b[0;34m()\u001b[0m\n\u001b[1;32m      5\u001b[0m \u001b[0mplt\u001b[0m\u001b[0;34m.\u001b[0m\u001b[0msubplot\u001b[0m\u001b[0;34m(\u001b[0m\u001b[0;36m122\u001b[0m\u001b[0;34m)\u001b[0m\u001b[0;34m\u001b[0m\u001b[0;34m\u001b[0m\u001b[0m\n\u001b[1;32m      6\u001b[0m \u001b[0mplt\u001b[0m\u001b[0;34m.\u001b[0m\u001b[0mtitle\u001b[0m\u001b[0;34m(\u001b[0m\u001b[0;34m'Horse with random jitter'\u001b[0m\u001b[0;34m)\u001b[0m\u001b[0;34m\u001b[0m\u001b[0;34m\u001b[0m\u001b[0m\n\u001b[0;32m----> 7\u001b[0;31m \u001b[0mplt\u001b[0m\u001b[0;34m.\u001b[0m\u001b[0mimshow\u001b[0m\u001b[0;34m(\u001b[0m\u001b[0mrandom_jitter\u001b[0m\u001b[0;34m(\u001b[0m\u001b[0msample_horse\u001b[0m\u001b[0;34m[\u001b[0m\u001b[0;36m0\u001b[0m\u001b[0;34m]\u001b[0m\u001b[0;34m)\u001b[0m \u001b[0;34m*\u001b[0m \u001b[0;36m0.5\u001b[0m \u001b[0;34m+\u001b[0m \u001b[0;36m0.5\u001b[0m\u001b[0;34m)\u001b[0m\u001b[0;34m\u001b[0m\u001b[0;34m\u001b[0m\u001b[0m\n\u001b[0m",
            "\u001b[0;32m<ipython-input-27-5c323bba6c95>\u001b[0m in \u001b[0;36mrandom_jitter\u001b[0;34m(image)\u001b[0m\n\u001b[1;32m     18\u001b[0m   \u001b[0;31m# resizing to 286 x 286 x 3\u001b[0m\u001b[0;34m\u001b[0m\u001b[0;34m\u001b[0m\u001b[0;34m\u001b[0m\u001b[0m\n\u001b[1;32m     19\u001b[0m   image = tf.image.resize(image, [286, 286],\n\u001b[0;32m---> 20\u001b[0;31m                           method=tf.image.ResizeMethod.NEAREST_NEIGHBOR)\n\u001b[0m\u001b[1;32m     21\u001b[0m \u001b[0;34m\u001b[0m\u001b[0m\n\u001b[1;32m     22\u001b[0m   \u001b[0;31m# randomly cropping to 256 x 256 x 3\u001b[0m\u001b[0;34m\u001b[0m\u001b[0;34m\u001b[0m\u001b[0;34m\u001b[0m\u001b[0m\n",
            "\u001b[0;32m/usr/local/lib/python3.7/dist-packages/tensorflow/python/util/traceback_utils.py\u001b[0m in \u001b[0;36merror_handler\u001b[0;34m(*args, **kwargs)\u001b[0m\n\u001b[1;32m    151\u001b[0m     \u001b[0;32mexcept\u001b[0m \u001b[0mException\u001b[0m \u001b[0;32mas\u001b[0m \u001b[0me\u001b[0m\u001b[0;34m:\u001b[0m\u001b[0;34m\u001b[0m\u001b[0;34m\u001b[0m\u001b[0m\n\u001b[1;32m    152\u001b[0m       \u001b[0mfiltered_tb\u001b[0m \u001b[0;34m=\u001b[0m \u001b[0m_process_traceback_frames\u001b[0m\u001b[0;34m(\u001b[0m\u001b[0me\u001b[0m\u001b[0;34m.\u001b[0m\u001b[0m__traceback__\u001b[0m\u001b[0;34m)\u001b[0m\u001b[0;34m\u001b[0m\u001b[0;34m\u001b[0m\u001b[0m\n\u001b[0;32m--> 153\u001b[0;31m       \u001b[0;32mraise\u001b[0m \u001b[0me\u001b[0m\u001b[0;34m.\u001b[0m\u001b[0mwith_traceback\u001b[0m\u001b[0;34m(\u001b[0m\u001b[0mfiltered_tb\u001b[0m\u001b[0;34m)\u001b[0m \u001b[0;32mfrom\u001b[0m \u001b[0;32mNone\u001b[0m\u001b[0;34m\u001b[0m\u001b[0;34m\u001b[0m\u001b[0m\n\u001b[0m\u001b[1;32m    154\u001b[0m     \u001b[0;32mfinally\u001b[0m\u001b[0;34m:\u001b[0m\u001b[0;34m\u001b[0m\u001b[0;34m\u001b[0m\u001b[0m\n\u001b[1;32m    155\u001b[0m       \u001b[0;32mdel\u001b[0m \u001b[0mfiltered_tb\u001b[0m\u001b[0;34m\u001b[0m\u001b[0;34m\u001b[0m\u001b[0m\n",
            "\u001b[0;32m/usr/local/lib/python3.7/dist-packages/tensorflow/python/ops/image_ops_impl.py\u001b[0m in \u001b[0;36m_resize_images_common\u001b[0;34m(images, resizer_fn, size, preserve_aspect_ratio, name, skip_resize_if_same)\u001b[0m\n\u001b[1;32m   1394\u001b[0m       \u001b[0mimages\u001b[0m \u001b[0;34m=\u001b[0m \u001b[0marray_ops\u001b[0m\u001b[0;34m.\u001b[0m\u001b[0mexpand_dims\u001b[0m\u001b[0;34m(\u001b[0m\u001b[0mimages\u001b[0m\u001b[0;34m,\u001b[0m \u001b[0;36m0\u001b[0m\u001b[0;34m)\u001b[0m\u001b[0;34m\u001b[0m\u001b[0;34m\u001b[0m\u001b[0m\n\u001b[1;32m   1395\u001b[0m     \u001b[0;32melif\u001b[0m \u001b[0mimages\u001b[0m\u001b[0;34m.\u001b[0m\u001b[0mget_shape\u001b[0m\u001b[0;34m(\u001b[0m\u001b[0;34m)\u001b[0m\u001b[0;34m.\u001b[0m\u001b[0mndims\u001b[0m \u001b[0;34m!=\u001b[0m \u001b[0;36m4\u001b[0m\u001b[0;34m:\u001b[0m\u001b[0;34m\u001b[0m\u001b[0;34m\u001b[0m\u001b[0m\n\u001b[0;32m-> 1396\u001b[0;31m       \u001b[0;32mraise\u001b[0m \u001b[0mValueError\u001b[0m\u001b[0;34m(\u001b[0m\u001b[0;34m'\\'images\\' must have either 3 or 4 dimensions.'\u001b[0m\u001b[0;34m)\u001b[0m\u001b[0;34m\u001b[0m\u001b[0;34m\u001b[0m\u001b[0m\n\u001b[0m\u001b[1;32m   1397\u001b[0m \u001b[0;34m\u001b[0m\u001b[0m\n\u001b[1;32m   1398\u001b[0m     \u001b[0m_\u001b[0m\u001b[0;34m,\u001b[0m \u001b[0mheight\u001b[0m\u001b[0;34m,\u001b[0m \u001b[0mwidth\u001b[0m\u001b[0;34m,\u001b[0m \u001b[0m_\u001b[0m \u001b[0;34m=\u001b[0m \u001b[0mimages\u001b[0m\u001b[0;34m.\u001b[0m\u001b[0mget_shape\u001b[0m\u001b[0;34m(\u001b[0m\u001b[0;34m)\u001b[0m\u001b[0;34m.\u001b[0m\u001b[0mas_list\u001b[0m\u001b[0;34m(\u001b[0m\u001b[0;34m)\u001b[0m\u001b[0;34m\u001b[0m\u001b[0;34m\u001b[0m\u001b[0m\n",
            "\u001b[0;31mValueError\u001b[0m: 'images' must have either 3 or 4 dimensions."
          ]
        },
        {
          "output_type": "display_data",
          "data": {
            "image/png": "[encoded data removed]",
            "text/plain": [
              "<Figure size 432x288 with 2 Axes>"
            ]
          },
          "metadata": {
            "needs_background": "light"
          }
        }
      ]
    },
    {
      "cell_type": "code",
      "source": [
        "OUTPUT_CHANNELS = 3\n",
        "\n",
        "generator_g = pix2pix.unet_generator(OUTPUT_CHANNELS, norm_type='instancenorm')\n",
        "generator_f = pix2pix.unet_generator(OUTPUT_CHANNELS, norm_type='instancenorm')\n",
        "\n",
        "discriminator_x = pix2pix.discriminator(norm_type='instancenorm', target=False)\n",
        "discriminator_y = pix2pix.discriminator(norm_type='instancenorm', target=False)"
      ],
      "metadata": {
        "id": "FWbUF_VZbtHo"
      },
      "execution_count": null,
      "outputs": []
    },
    {
      "cell_type": "code",
      "source": [
        "to_zebra = generator_g(train)\n",
        "to_horse = generator_f(label)\n",
        "plt.figure(figsize=(8, 8))\n",
        "contrast = 8\n",
        "\n",
        "imgs = [train, to_zebra, label, to_horse]\n",
        "title = ['Horse', 'To Zebra', 'Zebra', 'To Horse']\n",
        "\n",
        "for i in range(len(imgs)):\n",
        "  plt.subplot(2, 2, i+1)\n",
        "  plt.title(title[i])\n",
        "  if i % 2 == 0:\n",
        "    plt.imshow(imgs[i][0] * 0.5 + 0.5)\n",
        "  else:\n",
        "    plt.imshow(imgs[i][0] * 0.5 * contrast + 0.5)\n",
        "plt.show()"
      ],
      "metadata": {
        "id": "sPGWfEVOr8j-"
      },
      "execution_count": null,
      "outputs": []
    },
    {
      "cell_type": "code",
      "source": [
        "plt.figure(figsize=(8, 8))\n",
        "\n",
        "plt.subplot(121)\n",
        "plt.title('Is a real zebra?')\n",
        "plt.imshow(discriminator_y(sample_zebra)[0, ..., -1], cmap='RdBu_r')\n",
        "\n",
        "plt.subplot(122)\n",
        "plt.title('Is a real horse?')\n",
        "plt.imshow(discriminator_x(sample_horse)[0, ..., -1], cmap='RdBu_r')\n",
        "\n",
        "plt.show()"
      ],
      "metadata": {
        "id": "jfKRP8fBr8hl"
      },
      "execution_count": null,
      "outputs": []
    },
    {
      "cell_type": "code",
      "source": [
        "LAMBDA = 10\n",
        "loss_obj = tf.keras.losses.BinaryCrossentropy(from_logits=True)\n",
        " \n",
        "\n",
        "def discriminator_loss(real, generated):\n",
        "  real_loss = loss_obj(tf.ones_like(real), real)\n",
        "\n",
        "  generated_loss = loss_obj(tf.zeros_like(generated), generated)\n",
        "\n",
        "  total_disc_loss = real_loss + generated_loss\n",
        "\n",
        "  return total_disc_loss * 0.5\n",
        "\n",
        "def generator_loss(generated):\n",
        "  return loss_obj(tf.ones_like(generated), generated)\n",
        "  \n",
        "\n",
        "def calc_cycle_loss(real_image, cycled_image):\n",
        "  loss1 = tf.reduce_mean(tf.abs(real_image - cycled_image))\n",
        "  \n",
        "  return LAMBDA * loss1\n",
        "\n",
        "def identity_loss(real_image, same_image):\n",
        "  loss = tf.reduce_mean(tf.abs(real_image - same_image))\n",
        "  return LAMBDA * 0.5 * loss"
      ],
      "metadata": {
        "id": "De7u4s4fr8fN"
      },
      "execution_count": null,
      "outputs": []
    },
    {
      "cell_type": "code",
      "source": [
        "\n",
        "generator_g_optimizer = tf.keras.optimizers.Adam(2e-4, beta_1=0.5)\n",
        "generator_f_optimizer = tf.keras.optimizers.Adam(2e-4, beta_1=0.5)\n",
        "\n",
        "discriminator_x_optimizer = tf.keras.optimizers.Adam(2e-4, beta_1=0.5)\n",
        "discriminator_y_optimizer = tf.keras.optimizers.Adam(2e-4, beta_1=0.5)\n",
        "\n",
        "checkpoint_path = \"./checkpoints/train\"\n",
        "\n",
        "\n",
        "ckpt = tf.train.Checkpoint(generator_g=generator_g,\n",
        "                           generator_f=generator_f,\n",
        "                           discriminator_x=discriminator_x,\n",
        "                           discriminator_y=discriminator_y,\n",
        "                           generator_g_optimizer=generator_g_optimizer,\n",
        "                           generator_f_optimizer=generator_f_optimizer,\n",
        "                           discriminator_x_optimizer=discriminator_x_optimizer,\n",
        "                           discriminator_y_optimizer=discriminator_y_optimizer)\n",
        "\n",
        "ckpt_manager = tf.train.CheckpointManager(ckpt, checkpoint_path, max_to_keep=5)\n",
        "\n",
        "# if a checkpoint exists, restore the latest checkpoint.\n",
        "if ckpt_manager.latest_checkpoint:\n",
        "  ckpt.restore(ckpt_manager.latest_checkpoint)\n",
        "  print ('Latest checkpoint restored!!')"
      ],
      "metadata": {
        "id": "5D8WNrLZr8aM"
      },
      "execution_count": null,
      "outputs": []
    },
    {
      "cell_type": "code",
      "source": [
        "@tf.function\n",
        "def train_step(real_x, real_y):\n",
        "  # persistent is set to True because the tape is used more than\n",
        "  # once to calculate the gradients.\n",
        "  with tf.GradientTape(persistent=True) as tape:\n",
        "    # Generator G translates X -> Y\n",
        "    # Generator F translates Y -> X.\n",
        "    \n",
        "    fake_y = generator_g(real_x, training=True)\n",
        "    cycled_x = generator_f(fake_y, training=True)\n",
        "\n",
        "    fake_x = generator_f(real_y, training=True)\n",
        "    cycled_y = generator_g(fake_x, training=True)\n",
        "\n",
        "    # same_x and same_y are used for identity loss.\n",
        "    same_x = generator_f(real_x, training=True)\n",
        "    same_y = generator_g(real_y, training=True)\n",
        "\n",
        "    disc_real_x = discriminator_x(real_x, training=True)\n",
        "    disc_real_y = discriminator_y(real_y, training=True)\n",
        "\n",
        "    disc_fake_x = discriminator_x(fake_x, training=True)\n",
        "    disc_fake_y = discriminator_y(fake_y, training=True)\n",
        "\n",
        "    # calculate the loss\n",
        "    gen_g_loss = generator_loss(disc_fake_y)\n",
        "    gen_f_loss = generator_loss(disc_fake_x)\n",
        "    \n",
        "    total_cycle_loss = calc_cycle_loss(real_x, cycled_x) + calc_cycle_loss(real_y, cycled_y)\n",
        "    \n",
        "    # Total generator loss = adversarial loss + cycle loss\n",
        "    total_gen_g_loss = gen_g_loss + total_cycle_loss + identity_loss(real_y, same_y)\n",
        "    total_gen_f_loss = gen_f_loss + total_cycle_loss + identity_loss(real_x, same_x)\n",
        "\n",
        "    disc_x_loss = discriminator_loss(disc_real_x, disc_fake_x)\n",
        "    disc_y_loss = discriminator_loss(disc_real_y, disc_fake_y)\n",
        "  \n",
        "  # Calculate the gradients for generator and discriminator\n",
        "  generator_g_gradients = tape.gradient(total_gen_g_loss, \n",
        "                                        generator_g.trainable_variables)\n",
        "  generator_f_gradients = tape.gradient(total_gen_f_loss, \n",
        "                                        generator_f.trainable_variables)\n",
        "  \n",
        "  discriminator_x_gradients = tape.gradient(disc_x_loss, \n",
        "                                            discriminator_x.trainable_variables)\n",
        "  discriminator_y_gradients = tape.gradient(disc_y_loss, \n",
        "                                            discriminator_y.trainable_variables)\n",
        "  \n",
        "  # Apply the gradients to the optimizer\n",
        "  generator_g_optimizer.apply_gradients(zip(generator_g_gradients, \n",
        "                                            generator_g.trainable_variables))\n",
        "\n",
        "  generator_f_optimizer.apply_gradients(zip(generator_f_gradients, \n",
        "                                            generator_f.trainable_variables))\n",
        "  \n",
        "  discriminator_x_optimizer.apply_gradients(zip(discriminator_x_gradients,\n",
        "                                                discriminator_x.trainable_variables))\n",
        "  \n",
        "  discriminator_y_optimizer.apply_gradients(zip(discriminator_y_gradients,\n",
        "                                                discriminator_y.trainable_variables))"
      ],
      "metadata": {
        "id": "egoIHXzkr8Xe"
      },
      "execution_count": null,
      "outputs": []
    },
    {
      "cell_type": "code",
      "source": [
        "EPOCHS = 40\n",
        "def generate_images(model, test_input):\n",
        "  prediction = model(test_input)\n",
        "    \n",
        "  plt.figure(figsize=(12, 12))\n",
        "\n",
        "  display_list = [test_input[0], prediction[0]]\n",
        "  title = ['Input Image', 'Predicted Image']\n",
        "\n",
        "  for i in range(2):\n",
        "    plt.subplot(1, 2, i+1)\n",
        "    plt.title(title[i])\n",
        "    # getting the pixel values between [0, 1] to plot it.\n",
        "    plt.imshow(display_list[i] * 0.5 + 0.5)\n",
        "    plt.axis('off')\n",
        "  plt.show()\n",
        "\n",
        " \n",
        "\n",
        "for epoch in range(EPOCHS):\n",
        "  start = time.time()\n",
        "\n",
        "  n = 0\n",
        "  for image_x, image_y in tf.data.Dataset.zip((train_horses, train_zebras)):\n",
        "    train_step(image_x, image_y)\n",
        "    if n % 10 == 0:\n",
        "      print ('.', end='')\n",
        "    n+=1\n",
        "\n",
        "  clear_output(wait=True)\n",
        "  # Using a consistent image (sample_horse) so that the progress of the model\n",
        "  # is clearly visible.\n",
        "  generate_images(generator_g, sample_horse)\n",
        "\n",
        "  if (epoch + 1) % 5 == 0:\n",
        "    ckpt_save_path = ckpt_manager.save()\n",
        "    print ('Saving checkpoint for epoch {} at {}'.format(epoch+1,\n",
        "                                                         ckpt_save_path))\n",
        "\n",
        "  print ('Time taken for epoch {} is {} sec\\n'.format(epoch + 1,\n",
        "                                                      time.time()-start))"
      ],
      "metadata": {
        "id": "F5wWdRJDr8U8"
      },
      "execution_count": null,
      "outputs": []
    },
    {
      "cell_type": "code",
      "source": [
        ""
      ],
      "metadata": {
        "id": "9PXkK3enr8Sx"
      },
      "execution_count": null,
      "outputs": []
    },
    {
      "cell_type": "code",
      "source": [
        ""
      ],
      "metadata": {
        "id": "AK61qdABr8P8"
      },
      "execution_count": null,
      "outputs": []
    },
    {
      "cell_type": "code",
      "source": [
        ""
      ],
      "metadata": {
        "id": "RYYiBOZtr8Nd"
      },
      "execution_count": null,
      "outputs": []
    },
    {
      "cell_type": "code",
      "source": [
        ""
      ],
      "metadata": {
        "id": "vdhKA6nKr8Kb"
      },
      "execution_count": null,
      "outputs": []
    },
    {
      "cell_type": "code",
      "source": [
        "noise_factor = 0.2\n",
        "x_train_noisy = x_train + noise_factor * tf.random.normal(shape=x_train.shape) \n",
        "x_test_noisy = x_test + noise_factor * tf.random.normal(shape=x_test.shape) \n",
        "\n",
        "x_train_noisy = tf.clip_by_value(x_train_noisy, clip_value_min=0., clip_value_max=1.)\n",
        "x_test_noisy = tf.clip_by_value(x_test_noisy, clip_value_min=0., clip_value_max=1.)"
      ],
      "metadata": {
        "id": "nqv4_gb-2VAd"
      },
      "execution_count": null,
      "outputs": []
    },
    {
      "cell_type": "code",
      "source": [
        "class Denoise(Model):\n",
        "  def __init__(self):\n",
        "    super(Denoise, self).__init__()\n",
        "    self.encoder = tf.keras.Sequential([\n",
        "      layers.Input(shape=(32, 128, 3)), \n",
        "      layers.Conv2D(16, (3,3), activation='relu', padding='same', strides=2),\n",
        "      layers.Conv2D(8, (3,3), activation='relu', padding='same', strides=2)])\n",
        "    \n",
        "    self.decoder = tf.keras.Sequential([\n",
        "      layers.Conv2DTranspose(8, kernel_size=3, strides=2, activation='relu', padding='same'),\n",
        "      layers.Conv2DTranspose(16, kernel_size=3, strides=2, activation='relu', padding='same'),\n",
        "      layers.Conv2D(3, kernel_size=(3,3), activation='sigmoid', padding='same')])\n",
        "    \n",
        "  def call(self, x):\n",
        "    encoded = self.encoder(x)\n",
        "    decoded = self.decoder(encoded)\n",
        "    return decoded\n",
        "\n",
        "autoencoder = Denoise()"
      ],
      "metadata": {
        "id": "7enp8FAilBtF"
      },
      "execution_count": null,
      "outputs": []
    },
    {
      "cell_type": "code",
      "source": [
        "pip install tensorflow_addons"
      ],
      "metadata": {
        "id": "8rcQaW_e_Sis"
      },
      "execution_count": null,
      "outputs": []
    },
    {
      "cell_type": "code",
      "source": [
        "import tensorflow.keras.backend as K\n",
        "import tensorflow_addons as tfa"
      ],
      "metadata": {
        "id": "gaETtejY_JHs"
      },
      "execution_count": null,
      "outputs": []
    },
    {
      "cell_type": "code",
      "source": [
        "class Denoise(Model):\n",
        "  def __init__(self):\n",
        "    K.clear_session()\n",
        "    super(Denoise, self).__init__()\n",
        "    self.encoder = tf.keras.Sequential([\n",
        "      layers.Input(shape=(32, 128, 3)),\n",
        "      layers.Conv2D(512, (3,3), activation='relu', padding='same'),\n",
        "      layers.Conv2D(512, (3,3), activation='relu', padding='same'),\n",
        "      layers.MaxPooling2D((2,2), padding ='same'),\n",
        "      layers.Conv2D(256, (3,3), activation='relu', padding='same'),\n",
        "      layers.Conv2D(256, (3,3), activation='relu', padding='same'),\n",
        "      layers.MaxPooling2D((2,2), padding ='same'),\n",
        "      layers.Conv2D(64, (3,3), activation='relu', padding='same'),\n",
        "      layers.Conv2D(64, (3,3), activation='relu', padding='same'),\n",
        "      layers.Conv2D(64, (3,3), activation='relu', padding='same'),\n",
        "      layers.MaxPooling2D((2,2), padding ='same'),\n",
        "      layers.Conv2D(16, (3,3), activation='relu', padding='same'),\n",
        "      layers.Conv2D(16, (3,3), activation='relu', padding='same'),\n",
        "      layers.Conv2D(16, (3,3), activation='relu', padding='same'),\n",
        "      layers.Conv2D(16, (3,3), activation='relu', padding='same'),\n",
        "      layers.MaxPooling2D((2,2), padding ='same'),          \n",
        "      layers.Conv2D(8, (3,3), activation='relu', padding='same'),\n",
        "      layers.Conv2D(8, (3,3), activation='relu', padding='same'),\n",
        "      layers.Conv2D(8, (3,3), activation='relu', padding='same'),\n",
        "      layers.Conv2D(8, (3,3), activation='relu', padding='same')\n",
        "      ])\n",
        "    \n",
        "    self.decoder = tf.keras.Sequential([\n",
        "      layers.Conv2DTranspose(8, kernel_size=3, strides=2, activation='relu', padding='same'),\n",
        "      layers.Conv2DTranspose(16, kernel_size=3, strides=2, activation='relu', padding='same'),\n",
        "      layers.Conv2DTranspose(64, kernel_size=3, strides=2, activation='relu', padding='same'),\n",
        "      layers.Conv2DTranspose(256, kernel_size=3, strides=2, activation='relu', padding='same'),\n",
        "      layers.Conv2DTranspose(512, kernel_size=3, strides=1, activation='relu', padding='same'),  \n",
        "      layers.Conv2DTranspose(3, kernel_size=(3,3), activation='sigmoid', padding='same')])\n",
        "    \n",
        "  def call(self, x):\n",
        "    encoded = self.encoder(x)\n",
        "    decoded = self.decoder(encoded)\n",
        "    return decoded\n",
        "\n",
        "autoencoder = Denoise()"
      ],
      "metadata": {
        "id": "vdNf0Bwm_Air"
      },
      "execution_count": null,
      "outputs": []
    },
    {
      "cell_type": "code",
      "source": [
        "opt = tfa.optimizers.RectifiedAdam(lr=3e-4)\n",
        "autoencoder.compile(optimizer=opt, loss='mse', metrics = [tf.keras.metrics.RootMeanSquaredError()])"
      ],
      "metadata": {
        "colab": {
          "base_uri": "https://localhost:8080/"
        },
        "id": "CSM1zgjM_Mw7",
        "outputId": "5d31d800-2479-4dfe-8cef-b8b3e8ec3e7f"
      },
      "execution_count": null,
      "outputs": [
        {
          "output_type": "stream",
          "name": "stderr",
          "text": [
            "/usr/local/lib/python3.7/dist-packages/tensorflow_addons/optimizers/rectified_adam.py:120: UserWarning: The `lr` argument is deprecated, use `learning_rate` instead.\n",
            "  super().__init__(name, **kwargs)\n"
          ]
        }
      ]
    },
    {
      "cell_type": "code",
      "source": [
        "autoencoder.compile(optimizer='adam', loss=losses.MeanSquaredError())"
      ],
      "metadata": {
        "id": "vwfoX7JWlBjl"
      },
      "execution_count": null,
      "outputs": []
    },
    {
      "cell_type": "code",
      "source": [
        "cb_lr_schedule = tf.keras.callbacks.ReduceLROnPlateau(monitor = 'val_loss', factor = 0.4, patience = 2,\n",
        "                                                      verbose = 1, mode = 'min',min_delta = 0.0001)\n",
        "\n",
        "early_stopping = tf.keras.callbacks.EarlyStopping(monitor = 'val_loss', mode = 'min', patience = 5, \n",
        "                                                  verbose = 1, min_delta = 0.0001)\n",
        "\n",
        "\n",
        "history = autoencoder.fit(x_train, y_train,\n",
        "          epochs=20,\n",
        "          batch_size=8, \n",
        "          validation_data=(x_test, y_test),\n",
        "          callbacks= [cb_lr_schedule, early_stopping], \n",
        "          shuffle=True)"
      ],
      "metadata": {
        "colab": {
          "base_uri": "https://localhost:8080/",
          "height": 400
        },
        "id": "vAbF01eP_aGw",
        "outputId": "9b69ee33-d945-4dbb-e3ad-2e921db9b102"
      },
      "execution_count": null,
      "outputs": [
        {
          "output_type": "stream",
          "name": "stdout",
          "text": [
            "Epoch 1/20\n",
            "  14/1000 [..............................] - ETA: 3:56:22 - loss: 50351.3633 - root_mean_squared_error: 224.3912"
          ]
        },
        {
          "output_type": "error",
          "ename": "KeyboardInterrupt",
          "evalue": "ignored",
          "traceback": [
            "\u001b[0;31m---------------------------------------------------------------------------\u001b[0m",
            "\u001b[0;31mKeyboardInterrupt\u001b[0m                         Traceback (most recent call last)",
            "\u001b[0;32m<ipython-input-248-4bc25b046293>\u001b[0m in \u001b[0;36m<module>\u001b[0;34m()\u001b[0m\n\u001b[1;32m     11\u001b[0m           \u001b[0mvalidation_data\u001b[0m\u001b[0;34m=\u001b[0m\u001b[0;34m(\u001b[0m\u001b[0mx_test\u001b[0m\u001b[0;34m,\u001b[0m \u001b[0my_test\u001b[0m\u001b[0;34m)\u001b[0m\u001b[0;34m,\u001b[0m\u001b[0;34m\u001b[0m\u001b[0;34m\u001b[0m\u001b[0m\n\u001b[1;32m     12\u001b[0m           \u001b[0mcallbacks\u001b[0m\u001b[0;34m=\u001b[0m \u001b[0;34m[\u001b[0m\u001b[0mcb_lr_schedule\u001b[0m\u001b[0;34m,\u001b[0m \u001b[0mearly_stopping\u001b[0m\u001b[0;34m]\u001b[0m\u001b[0;34m,\u001b[0m\u001b[0;34m\u001b[0m\u001b[0;34m\u001b[0m\u001b[0m\n\u001b[0;32m---> 13\u001b[0;31m           shuffle=True)\n\u001b[0m",
            "\u001b[0;32m/usr/local/lib/python3.7/dist-packages/keras/utils/traceback_utils.py\u001b[0m in \u001b[0;36merror_handler\u001b[0;34m(*args, **kwargs)\u001b[0m\n\u001b[1;32m     62\u001b[0m     \u001b[0mfiltered_tb\u001b[0m \u001b[0;34m=\u001b[0m \u001b[0;32mNone\u001b[0m\u001b[0;34m\u001b[0m\u001b[0;34m\u001b[0m\u001b[0m\n\u001b[1;32m     63\u001b[0m     \u001b[0;32mtry\u001b[0m\u001b[0;34m:\u001b[0m\u001b[0;34m\u001b[0m\u001b[0;34m\u001b[0m\u001b[0m\n\u001b[0;32m---> 64\u001b[0;31m       \u001b[0;32mreturn\u001b[0m \u001b[0mfn\u001b[0m\u001b[0;34m(\u001b[0m\u001b[0;34m*\u001b[0m\u001b[0margs\u001b[0m\u001b[0;34m,\u001b[0m \u001b[0;34m**\u001b[0m\u001b[0mkwargs\u001b[0m\u001b[0;34m)\u001b[0m\u001b[0;34m\u001b[0m\u001b[0;34m\u001b[0m\u001b[0m\n\u001b[0m\u001b[1;32m     65\u001b[0m     \u001b[0;32mexcept\u001b[0m \u001b[0mException\u001b[0m \u001b[0;32mas\u001b[0m \u001b[0me\u001b[0m\u001b[0;34m:\u001b[0m  \u001b[0;31m# pylint: disable=broad-except\u001b[0m\u001b[0;34m\u001b[0m\u001b[0;34m\u001b[0m\u001b[0m\n\u001b[1;32m     66\u001b[0m       \u001b[0mfiltered_tb\u001b[0m \u001b[0;34m=\u001b[0m \u001b[0m_process_traceback_frames\u001b[0m\u001b[0;34m(\u001b[0m\u001b[0me\u001b[0m\u001b[0;34m.\u001b[0m\u001b[0m__traceback__\u001b[0m\u001b[0;34m)\u001b[0m\u001b[0;34m\u001b[0m\u001b[0;34m\u001b[0m\u001b[0m\n",
            "\u001b[0;32m/usr/local/lib/python3.7/dist-packages/keras/engine/training.py\u001b[0m in \u001b[0;36mfit\u001b[0;34m(self, x, y, batch_size, epochs, verbose, callbacks, validation_split, validation_data, shuffle, class_weight, sample_weight, initial_epoch, steps_per_epoch, validation_steps, validation_batch_size, validation_freq, max_queue_size, workers, use_multiprocessing)\u001b[0m\n\u001b[1;32m   1214\u001b[0m                 _r=1):\n\u001b[1;32m   1215\u001b[0m               \u001b[0mcallbacks\u001b[0m\u001b[0;34m.\u001b[0m\u001b[0mon_train_batch_begin\u001b[0m\u001b[0;34m(\u001b[0m\u001b[0mstep\u001b[0m\u001b[0;34m)\u001b[0m\u001b[0;34m\u001b[0m\u001b[0;34m\u001b[0m\u001b[0m\n\u001b[0;32m-> 1216\u001b[0;31m               \u001b[0mtmp_logs\u001b[0m \u001b[0;34m=\u001b[0m \u001b[0mself\u001b[0m\u001b[0;34m.\u001b[0m\u001b[0mtrain_function\u001b[0m\u001b[0;34m(\u001b[0m\u001b[0miterator\u001b[0m\u001b[0;34m)\u001b[0m\u001b[0;34m\u001b[0m\u001b[0;34m\u001b[0m\u001b[0m\n\u001b[0m\u001b[1;32m   1217\u001b[0m               \u001b[0;32mif\u001b[0m \u001b[0mdata_handler\u001b[0m\u001b[0;34m.\u001b[0m\u001b[0mshould_sync\u001b[0m\u001b[0;34m:\u001b[0m\u001b[0;34m\u001b[0m\u001b[0;34m\u001b[0m\u001b[0m\n\u001b[1;32m   1218\u001b[0m                 \u001b[0mcontext\u001b[0m\u001b[0;34m.\u001b[0m\u001b[0masync_wait\u001b[0m\u001b[0;34m(\u001b[0m\u001b[0;34m)\u001b[0m\u001b[0;34m\u001b[0m\u001b[0;34m\u001b[0m\u001b[0m\n",
            "\u001b[0;32m/usr/local/lib/python3.7/dist-packages/tensorflow/python/util/traceback_utils.py\u001b[0m in \u001b[0;36merror_handler\u001b[0;34m(*args, **kwargs)\u001b[0m\n\u001b[1;32m    148\u001b[0m     \u001b[0mfiltered_tb\u001b[0m \u001b[0;34m=\u001b[0m \u001b[0;32mNone\u001b[0m\u001b[0;34m\u001b[0m\u001b[0;34m\u001b[0m\u001b[0m\n\u001b[1;32m    149\u001b[0m     \u001b[0;32mtry\u001b[0m\u001b[0;34m:\u001b[0m\u001b[0;34m\u001b[0m\u001b[0;34m\u001b[0m\u001b[0m\n\u001b[0;32m--> 150\u001b[0;31m       \u001b[0;32mreturn\u001b[0m \u001b[0mfn\u001b[0m\u001b[0;34m(\u001b[0m\u001b[0;34m*\u001b[0m\u001b[0margs\u001b[0m\u001b[0;34m,\u001b[0m \u001b[0;34m**\u001b[0m\u001b[0mkwargs\u001b[0m\u001b[0;34m)\u001b[0m\u001b[0;34m\u001b[0m\u001b[0;34m\u001b[0m\u001b[0m\n\u001b[0m\u001b[1;32m    151\u001b[0m     \u001b[0;32mexcept\u001b[0m \u001b[0mException\u001b[0m \u001b[0;32mas\u001b[0m \u001b[0me\u001b[0m\u001b[0;34m:\u001b[0m\u001b[0;34m\u001b[0m\u001b[0;34m\u001b[0m\u001b[0m\n\u001b[1;32m    152\u001b[0m       \u001b[0mfiltered_tb\u001b[0m \u001b[0;34m=\u001b[0m \u001b[0m_process_traceback_frames\u001b[0m\u001b[0;34m(\u001b[0m\u001b[0me\u001b[0m\u001b[0;34m.\u001b[0m\u001b[0m__traceback__\u001b[0m\u001b[0;34m)\u001b[0m\u001b[0;34m\u001b[0m\u001b[0;34m\u001b[0m\u001b[0m\n",
            "\u001b[0;32m/usr/local/lib/python3.7/dist-packages/tensorflow/python/eager/def_function.py\u001b[0m in \u001b[0;36m__call__\u001b[0;34m(self, *args, **kwds)\u001b[0m\n\u001b[1;32m    908\u001b[0m \u001b[0;34m\u001b[0m\u001b[0m\n\u001b[1;32m    909\u001b[0m       \u001b[0;32mwith\u001b[0m \u001b[0mOptionalXlaContext\u001b[0m\u001b[0;34m(\u001b[0m\u001b[0mself\u001b[0m\u001b[0;34m.\u001b[0m\u001b[0m_jit_compile\u001b[0m\u001b[0;34m)\u001b[0m\u001b[0;34m:\u001b[0m\u001b[0;34m\u001b[0m\u001b[0;34m\u001b[0m\u001b[0m\n\u001b[0;32m--> 910\u001b[0;31m         \u001b[0mresult\u001b[0m \u001b[0;34m=\u001b[0m \u001b[0mself\u001b[0m\u001b[0;34m.\u001b[0m\u001b[0m_call\u001b[0m\u001b[0;34m(\u001b[0m\u001b[0;34m*\u001b[0m\u001b[0margs\u001b[0m\u001b[0;34m,\u001b[0m \u001b[0;34m**\u001b[0m\u001b[0mkwds\u001b[0m\u001b[0;34m)\u001b[0m\u001b[0;34m\u001b[0m\u001b[0;34m\u001b[0m\u001b[0m\n\u001b[0m\u001b[1;32m    911\u001b[0m \u001b[0;34m\u001b[0m\u001b[0m\n\u001b[1;32m    912\u001b[0m       \u001b[0mnew_tracing_count\u001b[0m \u001b[0;34m=\u001b[0m \u001b[0mself\u001b[0m\u001b[0;34m.\u001b[0m\u001b[0mexperimental_get_tracing_count\u001b[0m\u001b[0;34m(\u001b[0m\u001b[0;34m)\u001b[0m\u001b[0;34m\u001b[0m\u001b[0;34m\u001b[0m\u001b[0m\n",
            "\u001b[0;32m/usr/local/lib/python3.7/dist-packages/tensorflow/python/eager/def_function.py\u001b[0m in \u001b[0;36m_call\u001b[0;34m(self, *args, **kwds)\u001b[0m\n\u001b[1;32m    940\u001b[0m       \u001b[0;31m# In this case we have created variables on the first call, so we run the\u001b[0m\u001b[0;34m\u001b[0m\u001b[0;34m\u001b[0m\u001b[0;34m\u001b[0m\u001b[0m\n\u001b[1;32m    941\u001b[0m       \u001b[0;31m# defunned version which is guaranteed to never create variables.\u001b[0m\u001b[0;34m\u001b[0m\u001b[0;34m\u001b[0m\u001b[0;34m\u001b[0m\u001b[0m\n\u001b[0;32m--> 942\u001b[0;31m       \u001b[0;32mreturn\u001b[0m \u001b[0mself\u001b[0m\u001b[0;34m.\u001b[0m\u001b[0m_stateless_fn\u001b[0m\u001b[0;34m(\u001b[0m\u001b[0;34m*\u001b[0m\u001b[0margs\u001b[0m\u001b[0;34m,\u001b[0m \u001b[0;34m**\u001b[0m\u001b[0mkwds\u001b[0m\u001b[0;34m)\u001b[0m  \u001b[0;31m# pylint: disable=not-callable\u001b[0m\u001b[0;34m\u001b[0m\u001b[0;34m\u001b[0m\u001b[0m\n\u001b[0m\u001b[1;32m    943\u001b[0m     \u001b[0;32melif\u001b[0m \u001b[0mself\u001b[0m\u001b[0;34m.\u001b[0m\u001b[0m_stateful_fn\u001b[0m \u001b[0;32mis\u001b[0m \u001b[0;32mnot\u001b[0m \u001b[0;32mNone\u001b[0m\u001b[0;34m:\u001b[0m\u001b[0;34m\u001b[0m\u001b[0;34m\u001b[0m\u001b[0m\n\u001b[1;32m    944\u001b[0m       \u001b[0;31m# Release the lock early so that multiple threads can perform the call\u001b[0m\u001b[0;34m\u001b[0m\u001b[0;34m\u001b[0m\u001b[0;34m\u001b[0m\u001b[0m\n",
            "\u001b[0;32m/usr/local/lib/python3.7/dist-packages/tensorflow/python/eager/function.py\u001b[0m in \u001b[0;36m__call__\u001b[0;34m(self, *args, **kwargs)\u001b[0m\n\u001b[1;32m   3129\u001b[0m        filtered_flat_args) = self._maybe_define_function(args, kwargs)\n\u001b[1;32m   3130\u001b[0m     return graph_function._call_flat(\n\u001b[0;32m-> 3131\u001b[0;31m         filtered_flat_args, captured_inputs=graph_function.captured_inputs)  # pylint: disable=protected-access\n\u001b[0m\u001b[1;32m   3132\u001b[0m \u001b[0;34m\u001b[0m\u001b[0m\n\u001b[1;32m   3133\u001b[0m   \u001b[0;34m@\u001b[0m\u001b[0mproperty\u001b[0m\u001b[0;34m\u001b[0m\u001b[0;34m\u001b[0m\u001b[0m\n",
            "\u001b[0;32m/usr/local/lib/python3.7/dist-packages/tensorflow/python/eager/function.py\u001b[0m in \u001b[0;36m_call_flat\u001b[0;34m(self, args, captured_inputs, cancellation_manager)\u001b[0m\n\u001b[1;32m   1958\u001b[0m       \u001b[0;31m# No tape is watching; skip to running the function.\u001b[0m\u001b[0;34m\u001b[0m\u001b[0;34m\u001b[0m\u001b[0;34m\u001b[0m\u001b[0m\n\u001b[1;32m   1959\u001b[0m       return self._build_call_outputs(self._inference_function.call(\n\u001b[0;32m-> 1960\u001b[0;31m           ctx, args, cancellation_manager=cancellation_manager))\n\u001b[0m\u001b[1;32m   1961\u001b[0m     forward_backward = self._select_forward_and_backward_functions(\n\u001b[1;32m   1962\u001b[0m         \u001b[0margs\u001b[0m\u001b[0;34m,\u001b[0m\u001b[0;34m\u001b[0m\u001b[0;34m\u001b[0m\u001b[0m\n",
            "\u001b[0;32m/usr/local/lib/python3.7/dist-packages/tensorflow/python/eager/function.py\u001b[0m in \u001b[0;36mcall\u001b[0;34m(self, ctx, args, cancellation_manager)\u001b[0m\n\u001b[1;32m    601\u001b[0m               \u001b[0minputs\u001b[0m\u001b[0;34m=\u001b[0m\u001b[0margs\u001b[0m\u001b[0;34m,\u001b[0m\u001b[0;34m\u001b[0m\u001b[0;34m\u001b[0m\u001b[0m\n\u001b[1;32m    602\u001b[0m               \u001b[0mattrs\u001b[0m\u001b[0;34m=\u001b[0m\u001b[0mattrs\u001b[0m\u001b[0;34m,\u001b[0m\u001b[0;34m\u001b[0m\u001b[0;34m\u001b[0m\u001b[0m\n\u001b[0;32m--> 603\u001b[0;31m               ctx=ctx)\n\u001b[0m\u001b[1;32m    604\u001b[0m         \u001b[0;32melse\u001b[0m\u001b[0;34m:\u001b[0m\u001b[0;34m\u001b[0m\u001b[0;34m\u001b[0m\u001b[0m\n\u001b[1;32m    605\u001b[0m           outputs = execute.execute_with_cancellation(\n",
            "\u001b[0;32m/usr/local/lib/python3.7/dist-packages/tensorflow/python/eager/execute.py\u001b[0m in \u001b[0;36mquick_execute\u001b[0;34m(op_name, num_outputs, inputs, attrs, ctx, name)\u001b[0m\n\u001b[1;32m     57\u001b[0m     \u001b[0mctx\u001b[0m\u001b[0;34m.\u001b[0m\u001b[0mensure_initialized\u001b[0m\u001b[0;34m(\u001b[0m\u001b[0;34m)\u001b[0m\u001b[0;34m\u001b[0m\u001b[0;34m\u001b[0m\u001b[0m\n\u001b[1;32m     58\u001b[0m     tensors = pywrap_tfe.TFE_Py_Execute(ctx._handle, device_name, op_name,\n\u001b[0;32m---> 59\u001b[0;31m                                         inputs, attrs, num_outputs)\n\u001b[0m\u001b[1;32m     60\u001b[0m   \u001b[0;32mexcept\u001b[0m \u001b[0mcore\u001b[0m\u001b[0;34m.\u001b[0m\u001b[0m_NotOkStatusException\u001b[0m \u001b[0;32mas\u001b[0m \u001b[0me\u001b[0m\u001b[0;34m:\u001b[0m\u001b[0;34m\u001b[0m\u001b[0;34m\u001b[0m\u001b[0m\n\u001b[1;32m     61\u001b[0m     \u001b[0;32mif\u001b[0m \u001b[0mname\u001b[0m \u001b[0;32mis\u001b[0m \u001b[0;32mnot\u001b[0m \u001b[0;32mNone\u001b[0m\u001b[0;34m:\u001b[0m\u001b[0;34m\u001b[0m\u001b[0;34m\u001b[0m\u001b[0m\n",
            "\u001b[0;31mKeyboardInterrupt\u001b[0m: "
          ]
        }
      ]
    },
    {
      "cell_type": "code",
      "source": [
        "autoencoder.encoder.summary()"
      ],
      "metadata": {
        "colab": {
          "base_uri": "https://localhost:8080/"
        },
        "id": "r6EISaXhyjbG",
        "outputId": "17d2462c-293c-45d0-d715-235d28673bbb"
      },
      "execution_count": null,
      "outputs": [
        {
          "output_type": "stream",
          "name": "stdout",
          "text": [
            "Model: \"sequential_19\"\n",
            "_________________________________________________________________\n",
            " Layer (type)                Output Shape              Param #   \n",
            "=================================================================\n",
            " conv2d_31 (Conv2D)          (None, 16, 16, 16)        448       \n",
            "                                                                 \n",
            " conv2d_32 (Conv2D)          (None, 8, 8, 8)           1160      \n",
            "                                                                 \n",
            "=================================================================\n",
            "Total params: 1,608\n",
            "Trainable params: 1,608\n",
            "Non-trainable params: 0\n",
            "_________________________________________________________________\n"
          ]
        }
      ]
    },
    {
      "cell_type": "code",
      "source": [
        "encoded_imgs = autoencoder.encoder(x_test).numpy()\n",
        "decoded_imgs = autoencoder.decoder(encoded_imgs).numpy()"
      ],
      "metadata": {
        "id": "2QYHBfP3qF0I"
      },
      "execution_count": null,
      "outputs": []
    },
    {
      "cell_type": "code",
      "source": [
        "n = 10\n",
        "plt.figure(figsize=(20, 4))\n",
        "for i in range(n):\n",
        "\n",
        "\n",
        "\n",
        "    # display reconstruction\n",
        "    bx = plt.subplot(2, n, i + n + 1)\n",
        "    plt.title(\"reconstructed\")\n",
        "    plt.imshow(tf.squeeze(decoded_imgs[i]))\n",
        "    plt.gray()\n",
        "    bx.get_xaxis().set_visible(False)\n",
        "    bx.get_yaxis().set_visible(False)\n",
        "plt.show()"
      ],
      "metadata": {
        "colab": {
          "base_uri": "https://localhost:8080/",
          "height": 74
        },
        "id": "4ys4sSG91_qt",
        "outputId": "28276ee1-b60a-4645-b70f-11b6e07691d2"
      },
      "execution_count": null,
      "outputs": [
        {
          "output_type": "display_data",
          "data": {
            "image/png": "[encoded data removed]",
            "text/plain": [
              "<Figure size 1440x288 with 10 Axes>"
            ]
          },
          "metadata": {
            "needs_background": "light"
          }
        }
      ]
    },
    {
      "cell_type": "code",
      "source": [
        "autoencoder.fit(x_train, y_train,\n",
        "                epochs=200,\n",
        "                batchsize = 150,\n",
        "                shuffle=True,\n",
        "                validation_data=(x_test, y_test))"
      ],
      "metadata": {
        "colab": {
          "base_uri": "https://localhost:8080/"
        },
        "id": "ppK5jLFNqCjb",
        "outputId": "39d0888a-b7c4-46da-b230-43e3ab2e267a"
      },
      "execution_count": null,
      "outputs": [
        {
          "output_type": "stream",
          "name": "stdout",
          "text": [
            "Epoch 1/10\n",
            "250/250 [==============================] - 49s 197ms/step - loss: 50175.8164 - val_loss: 50172.3125\n",
            "Epoch 2/10\n",
            "250/250 [==============================] - 76s 305ms/step - loss: 50174.1602 - val_loss: 50172.3125\n",
            "Epoch 3/10\n",
            "250/250 [==============================] - 49s 195ms/step - loss: 50174.1484 - val_loss: 50172.3125\n",
            "Epoch 4/10\n",
            "250/250 [==============================] - 50s 199ms/step - loss: 50174.1641 - val_loss: 50172.3125\n",
            "Epoch 5/10\n",
            "250/250 [==============================] - 49s 196ms/step - loss: 50174.1562 - val_loss: 50172.3125\n",
            "Epoch 6/10\n",
            "250/250 [==============================] - 49s 196ms/step - loss: 50174.1680 - val_loss: 50172.3125\n",
            "Epoch 7/10\n",
            "250/250 [==============================] - 51s 202ms/step - loss: 50174.1562 - val_loss: 50172.3125\n",
            "Epoch 8/10\n",
            "250/250 [==============================] - 49s 196ms/step - loss: 50174.1523 - val_loss: 50172.3125\n",
            "Epoch 9/10\n",
            "250/250 [==============================] - 49s 195ms/step - loss: 50174.1602 - val_loss: 50172.3125\n",
            "Epoch 10/10\n",
            "250/250 [==============================] - 49s 195ms/step - loss: 50174.1602 - val_loss: 50172.3125\n"
          ]
        },
        {
          "output_type": "execute_result",
          "data": {
            "text/plain": [
              "<keras.callbacks.History at 0x7f1f3bc4eb90>"
            ]
          },
          "metadata": {},
          "execution_count": 237
        }
      ]
    }
  ]
}