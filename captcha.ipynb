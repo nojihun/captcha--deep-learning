{
  "nbformat": 4,
  "nbformat_minor": 0,
  "metadata": {
    "colab": {
      "name": "Untitled30.ipynb",
      "provenance": [],
      "collapsed_sections": [],
      "authorship_tag": "ABX9TyM1ybGGJ9wxmJYI47xhNWYe",
      "include_colab_link": true
    },
    "kernelspec": {
      "name": "python3",
      "display_name": "Python 3"
    },
    "language_info": {
      "name": "python"
    }
  },
  "cells": [
    {
      "cell_type": "markdown",
      "metadata": {
        "id": "view-in-github",
        "colab_type": "text"
      },
      "source": [
        "<a href=\"https://colab.research.google.com/github/nojihun/project1/blob/main/captcha.ipynb\" target=\"_parent\"><img src=\"https://colab.research.google.com/assets/colab-badge.svg\" alt=\"Open In Colab\"/></a>"
      ]
    },
    {
      "cell_type": "code",
      "execution_count": 7,
      "metadata": {
        "id": "cKxpD2b2MWFA"
      },
      "outputs": [],
      "source": [
        "from google.colab import drive\n",
        "import os.path\n",
        "import numpy as np\n",
        "import imageio\n",
        "import cv2\n",
        "from skimage import color, io\n",
        "from sklearn.preprocessing import LabelEncoder, OneHotEncoder\n",
        "import scipy.ndimage as nd\n",
        "from sklearn.model_selection import train_test_split\n",
        "from tensorflow.keras.models import Sequential, Model # <- May Use\n",
        "from tensorflow.keras.layers import Activation, MaxPooling2D, Flatten, Conv2D, Dropout, Dense\n",
        "from keras.preprocessing.image import img_to_array, ImageDataGenerator\n",
        "from PIL import Image\n",
        "from pathlib import Path"
      ]
    },
    {
      "cell_type": "code",
      "source": [
        "drive.mount('/content/drive') # 구글 드라이브에 연동"
      ],
      "metadata": {
        "colab": {
          "base_uri": "https://localhost:8080/"
        },
        "id": "Q_nQCfX8RaRy",
        "outputId": "398a0527-3fe3-4e97-a2ca-4a02dec7dd9a"
      },
      "execution_count": 8,
      "outputs": [
        {
          "output_type": "stream",
          "name": "stdout",
          "text": [
            "Mounted at /content/drive\n"
          ]
        }
      ]
    },
    {
      "cell_type": "code",
      "source": [
        "directory1 = '/content/drive/MyDrive/captcha'\n",
        "file_list1 = os.listdir(directory1)# 구글 드라이브에서 폴더 읽기\n"
      ],
      "metadata": {
        "id": "CJQujIEdRPYq"
      },
      "execution_count": 9,
      "outputs": []
    },
    {
      "cell_type": "code",
      "source": [
        "X=[] # 이 방법은 이미지를 한 글자씩으로 나누어서 각가을 학습을 시키는 것인데 문제는 이미지의 글자간의 간격이 변화하면 무쓸모가 ㅗ디낟.\n",
        "y=[]\n",
        "\n",
        "# Since there are subfolders inside the input directory, we've used nested loops\n",
        "for dirname, _, filenames in os.walk(directory1):\n",
        "    for filename in filenames[:10000]:\n",
        "        path=os.path.join(dirname, filename) \n",
        "        \n",
        "# Preprocessing the image:\n",
        "# - read image\n",
        "        image = cv2.imread(path,cv2.IMREAD_COLOR)\n",
        "\n",
        "\n",
        "# - Blur: As in one-dimensional signals, images also can be filtered with various low-pass filters (LPF), high-pass filters (HPF), etc.\n",
        "# LPF helps in removing noise, blurring images, etc. HPF filters help in finding edges in images.\n",
        "        image = cv2.GaussianBlur(image, (5,5), 0)\n",
        " \n",
        "\n",
        "# Splitting up the image into sections of each character\n",
        "        x=[image[10:50,20:40],image[10:50,40:60],\n",
        "                 image[10:50,60:80],image[10:50,80:100],image[10:50,100:120]]\n",
        "\n",
        "# Labelling segments with the image name\n",
        "        for i in range(5):\n",
        "            X.append(img_to_array(Image.fromarray(x[i])))\n",
        "            y.append(path[len(path)-9:len(path)-4][i])\n",
        "X=np.array(X)\n",
        "y=np.array(y)\n"
      ],
      "metadata": {
        "id": "lICFHhzFZ9ma"
      },
      "execution_count": 15,
      "outputs": []
    },
    {
      "cell_type": "code",
      "source": [
        "X=X.astype('float32')\n",
        "X/=255\n",
        "\n",
        "y_le = LabelEncoder().fit_transform(y)\n",
        "y_ohe = OneHotEncoder(sparse = False).fit_transform(y_le.reshape(len(y_le),1))\n",
        "\n",
        "X_train, X_test, y_train, y_test = train_test_split(X, y_ohe, test_size = 0.2, random_state = 42)\n",
        "\n",
        "row, col = X.shape[1],X.shape[2]\n",
        "categories = y_ohe.shape[1]\n",
        "\n",
        "info = {y_le[i] : y[i] for i in range(len(y))}"
      ],
      "metadata": {
        "id": "ZtQjtccSXq0H"
      },
      "execution_count": 16,
      "outputs": []
    },
    {
      "cell_type": "code",
      "source": [
        "y.shape\n",
        "X.shape"
      ],
      "metadata": {
        "colab": {
          "base_uri": "https://localhost:8080/"
        },
        "id": "H4WrbpsnZOoY",
        "outputId": "75dd84ec-0a90-4b7d-c991-d6c1977994f1"
      },
      "execution_count": 17,
      "outputs": [
        {
          "output_type": "execute_result",
          "data": {
            "text/plain": [
              "(50000, 30, 20, 3)"
            ]
          },
          "metadata": {},
          "execution_count": 17
        }
      ]
    },
    {
      "cell_type": "code",
      "source": [
        "model = Sequential()\n",
        "\n",
        "model.add(Conv2D(filters=16,kernel_size=(3,3), padding='same', input_shape=(row,col,3)))\n",
        "model.add(Activation('relu'))\n",
        "model.add(MaxPooling2D(pool_size = (2,2)))\n",
        "\n",
        "\n",
        "model.add(Conv2D(filters=16,kernel_size=(3,3), padding='same'))\n",
        "model.add(Activation('relu'))\n",
        "model.add(MaxPooling2D(pool_size = (2,2), padding ='same'))\n",
        "\n",
        "model.add(Conv2D(filters=64,kernel_size=(3,3), padding='same'))\n",
        "model.add(Activation('relu'))\n",
        "model.add(MaxPooling2D(pool_size = (2,2), padding ='same'))\n",
        "\n",
        "\n",
        "model.add(Conv2D(filters=128,kernel_size=(3,3), padding='same'))\n",
        "model.add(Activation('relu'))\n",
        "model.add(Dropout(0.4))\n",
        "model.add(MaxPooling2D(pool_size = (2,2), padding ='same'))\n",
        "\n",
        "\n",
        "\n",
        "model.add(Flatten())\n",
        "model.add(Dense(categories))\n",
        "model.add(Activation(\"softmax\"))\n",
        "\n",
        "model.compile(loss = 'categorical_crossentropy',\n",
        "              optimizer = 'adam' ,\n",
        "              metrics = ['accuracy'])\n",
        "\n",
        "print(model.summary())"
      ],
      "metadata": {
        "colab": {
          "base_uri": "https://localhost:8080/"
        },
        "id": "Q0XK_wF7i9is",
        "outputId": "2a7c8048-f5f4-4709-8a35-3af2d60ec062"
      },
      "execution_count": 18,
      "outputs": [
        {
          "output_type": "stream",
          "name": "stdout",
          "text": [
            "Model: \"sequential\"\n",
            "_________________________________________________________________\n",
            " Layer (type)                Output Shape              Param #   \n",
            "=================================================================\n",
            " conv2d (Conv2D)             (None, 30, 20, 16)        448       \n",
            "                                                                 \n",
            " activation (Activation)     (None, 30, 20, 16)        0         \n",
            "                                                                 \n",
            " max_pooling2d (MaxPooling2D  (None, 15, 10, 16)       0         \n",
            " )                                                               \n",
            "                                                                 \n",
            " conv2d_1 (Conv2D)           (None, 15, 10, 16)        2320      \n",
            "                                                                 \n",
            " activation_1 (Activation)   (None, 15, 10, 16)        0         \n",
            "                                                                 \n",
            " max_pooling2d_1 (MaxPooling  (None, 8, 5, 16)         0         \n",
            " 2D)                                                             \n",
            "                                                                 \n",
            " conv2d_2 (Conv2D)           (None, 8, 5, 64)          9280      \n",
            "                                                                 \n",
            " activation_2 (Activation)   (None, 8, 5, 64)          0         \n",
            "                                                                 \n",
            " max_pooling2d_2 (MaxPooling  (None, 4, 3, 64)         0         \n",
            " 2D)                                                             \n",
            "                                                                 \n",
            " conv2d_3 (Conv2D)           (None, 4, 3, 128)         73856     \n",
            "                                                                 \n",
            " activation_3 (Activation)   (None, 4, 3, 128)         0         \n",
            "                                                                 \n",
            " dropout (Dropout)           (None, 4, 3, 128)         0         \n",
            "                                                                 \n",
            " max_pooling2d_3 (MaxPooling  (None, 2, 2, 128)        0         \n",
            " 2D)                                                             \n",
            "                                                                 \n",
            " flatten (Flatten)           (None, 512)               0         \n",
            "                                                                 \n",
            " dense (Dense)               (None, 60)                30780     \n",
            "                                                                 \n",
            " activation_4 (Activation)   (None, 60)                0         \n",
            "                                                                 \n",
            "=================================================================\n",
            "Total params: 116,684\n",
            "Trainable params: 116,684\n",
            "Non-trainable params: 0\n",
            "_________________________________________________________________\n",
            "None\n"
          ]
        }
      ]
    },
    {
      "cell_type": "code",
      "source": [
        "from keras.callbacks import EarlyStopping\n",
        "\n",
        "\n",
        "batch_size = 150\n",
        "epochs = 200\n",
        "es = EarlyStopping(monitor='val_loss', mode='min', patience=15, restore_best_weights=True)\n",
        "history = model.fit(X_train, y_train,\n",
        "          batch_size=batch_size,\n",
        "          epochs=epochs,\n",
        "          validation_data=(X_test, y_test),\n",
        "          callbacks=[es])"
      ],
      "metadata": {
        "colab": {
          "base_uri": "https://localhost:8080/"
        },
        "id": "-xURR9D7i_Qw",
        "outputId": "d6d28d89-c59d-4a0f-e6b5-62db92e9f735"
      },
      "execution_count": 19,
      "outputs": [
        {
          "output_type": "stream",
          "name": "stdout",
          "text": [
            "Epoch 1/200\n",
            "267/267 [==============================] - 30s 108ms/step - loss: 3.8111 - accuracy: 0.0759 - val_loss: 3.5219 - val_accuracy: 0.1384\n",
            "Epoch 2/200\n",
            "267/267 [==============================] - 29s 110ms/step - loss: 3.3037 - accuracy: 0.1766 - val_loss: 3.1235 - val_accuracy: 0.2395\n",
            "Epoch 3/200\n",
            "267/267 [==============================] - 29s 108ms/step - loss: 2.8618 - accuracy: 0.2745 - val_loss: 2.7243 - val_accuracy: 0.3302\n",
            "Epoch 4/200\n",
            "267/267 [==============================] - 29s 108ms/step - loss: 2.5956 - accuracy: 0.3368 - val_loss: 2.5315 - val_accuracy: 0.3722\n",
            "Epoch 5/200\n",
            "267/267 [==============================] - 29s 108ms/step - loss: 2.4013 - accuracy: 0.3814 - val_loss: 2.3558 - val_accuracy: 0.4122\n",
            "Epoch 6/200\n",
            "267/267 [==============================] - 29s 108ms/step - loss: 2.2657 - accuracy: 0.4105 - val_loss: 2.2389 - val_accuracy: 0.4429\n",
            "Epoch 7/200\n",
            "267/267 [==============================] - 29s 108ms/step - loss: 2.1553 - accuracy: 0.4403 - val_loss: 2.1295 - val_accuracy: 0.4615\n",
            "Epoch 8/200\n",
            "267/267 [==============================] - 29s 108ms/step - loss: 2.0638 - accuracy: 0.4569 - val_loss: 2.0791 - val_accuracy: 0.4696\n",
            "Epoch 9/200\n",
            "267/267 [==============================] - 29s 108ms/step - loss: 1.9857 - accuracy: 0.4769 - val_loss: 2.0330 - val_accuracy: 0.4855\n",
            "Epoch 10/200\n",
            "267/267 [==============================] - 29s 108ms/step - loss: 1.9199 - accuracy: 0.4924 - val_loss: 1.9871 - val_accuracy: 0.4935\n",
            "Epoch 11/200\n",
            "267/267 [==============================] - 29s 108ms/step - loss: 1.8672 - accuracy: 0.5055 - val_loss: 1.9706 - val_accuracy: 0.4903\n",
            "Epoch 12/200\n",
            "267/267 [==============================] - 29s 108ms/step - loss: 1.8087 - accuracy: 0.5161 - val_loss: 1.9330 - val_accuracy: 0.5035\n",
            "Epoch 13/200\n",
            "267/267 [==============================] - 29s 108ms/step - loss: 1.7694 - accuracy: 0.5257 - val_loss: 1.9000 - val_accuracy: 0.5061\n",
            "Epoch 14/200\n",
            "267/267 [==============================] - 29s 108ms/step - loss: 1.7186 - accuracy: 0.5381 - val_loss: 1.8761 - val_accuracy: 0.5127\n",
            "Epoch 15/200\n",
            "267/267 [==============================] - 29s 108ms/step - loss: 1.6840 - accuracy: 0.5447 - val_loss: 1.8387 - val_accuracy: 0.5173\n",
            "Epoch 16/200\n",
            "267/267 [==============================] - 29s 108ms/step - loss: 1.6470 - accuracy: 0.5528 - val_loss: 1.8598 - val_accuracy: 0.5164\n",
            "Epoch 17/200\n",
            "267/267 [==============================] - 29s 108ms/step - loss: 1.6132 - accuracy: 0.5612 - val_loss: 1.8423 - val_accuracy: 0.5166\n",
            "Epoch 18/200\n",
            "267/267 [==============================] - 29s 108ms/step - loss: 1.5764 - accuracy: 0.5695 - val_loss: 1.8105 - val_accuracy: 0.5238\n",
            "Epoch 19/200\n",
            "267/267 [==============================] - 29s 108ms/step - loss: 1.5493 - accuracy: 0.5742 - val_loss: 1.8063 - val_accuracy: 0.5252\n",
            "Epoch 20/200\n",
            "267/267 [==============================] - 29s 107ms/step - loss: 1.5184 - accuracy: 0.5840 - val_loss: 1.8255 - val_accuracy: 0.5244\n",
            "Epoch 21/200\n",
            "267/267 [==============================] - 29s 107ms/step - loss: 1.4984 - accuracy: 0.5867 - val_loss: 1.7948 - val_accuracy: 0.5300\n",
            "Epoch 22/200\n",
            "267/267 [==============================] - 29s 107ms/step - loss: 1.4640 - accuracy: 0.5966 - val_loss: 1.7928 - val_accuracy: 0.5251\n",
            "Epoch 23/200\n",
            "267/267 [==============================] - 29s 107ms/step - loss: 1.4443 - accuracy: 0.5971 - val_loss: 1.7942 - val_accuracy: 0.5296\n",
            "Epoch 24/200\n",
            "267/267 [==============================] - 29s 108ms/step - loss: 1.4138 - accuracy: 0.6042 - val_loss: 1.7894 - val_accuracy: 0.5273\n",
            "Epoch 25/200\n",
            "267/267 [==============================] - 29s 107ms/step - loss: 1.3990 - accuracy: 0.6082 - val_loss: 1.7891 - val_accuracy: 0.5332\n",
            "Epoch 26/200\n",
            "267/267 [==============================] - 29s 107ms/step - loss: 1.3690 - accuracy: 0.6155 - val_loss: 1.7963 - val_accuracy: 0.5326\n",
            "Epoch 27/200\n",
            "267/267 [==============================] - 29s 108ms/step - loss: 1.3569 - accuracy: 0.6168 - val_loss: 1.7911 - val_accuracy: 0.5334\n",
            "Epoch 28/200\n",
            "267/267 [==============================] - 29s 107ms/step - loss: 1.3329 - accuracy: 0.6218 - val_loss: 1.7956 - val_accuracy: 0.5304\n",
            "Epoch 29/200\n",
            "267/267 [==============================] - 29s 107ms/step - loss: 1.3116 - accuracy: 0.6292 - val_loss: 1.7837 - val_accuracy: 0.5297\n",
            "Epoch 30/200\n",
            "267/267 [==============================] - 29s 107ms/step - loss: 1.2999 - accuracy: 0.6281 - val_loss: 1.7880 - val_accuracy: 0.5306\n",
            "Epoch 31/200\n",
            "267/267 [==============================] - 29s 108ms/step - loss: 1.2672 - accuracy: 0.6372 - val_loss: 1.7958 - val_accuracy: 0.5309\n",
            "Epoch 32/200\n",
            "267/267 [==============================] - 29s 107ms/step - loss: 1.2665 - accuracy: 0.6377 - val_loss: 1.7899 - val_accuracy: 0.5330\n",
            "Epoch 33/200\n",
            "267/267 [==============================] - 29s 107ms/step - loss: 1.2391 - accuracy: 0.6424 - val_loss: 1.7977 - val_accuracy: 0.5319\n",
            "Epoch 34/200\n",
            "267/267 [==============================] - 29s 107ms/step - loss: 1.2237 - accuracy: 0.6470 - val_loss: 1.8098 - val_accuracy: 0.5267\n",
            "Epoch 35/200\n",
            "267/267 [==============================] - 29s 107ms/step - loss: 1.2108 - accuracy: 0.6496 - val_loss: 1.8330 - val_accuracy: 0.5285\n",
            "Epoch 36/200\n",
            "267/267 [==============================] - 29s 107ms/step - loss: 1.1924 - accuracy: 0.6543 - val_loss: 1.8239 - val_accuracy: 0.5265\n",
            "Epoch 37/200\n",
            "267/267 [==============================] - 29s 107ms/step - loss: 1.1774 - accuracy: 0.6581 - val_loss: 1.8292 - val_accuracy: 0.5264\n",
            "Epoch 38/200\n",
            "267/267 [==============================] - 29s 107ms/step - loss: 1.1644 - accuracy: 0.6583 - val_loss: 1.8457 - val_accuracy: 0.5243\n",
            "Epoch 39/200\n",
            "267/267 [==============================] - 29s 108ms/step - loss: 1.1600 - accuracy: 0.6611 - val_loss: 1.8570 - val_accuracy: 0.5262\n",
            "Epoch 40/200\n",
            "267/267 [==============================] - 29s 108ms/step - loss: 1.1476 - accuracy: 0.6632 - val_loss: 1.8543 - val_accuracy: 0.5308\n",
            "Epoch 41/200\n",
            "267/267 [==============================] - 29s 108ms/step - loss: 1.1290 - accuracy: 0.6679 - val_loss: 1.8538 - val_accuracy: 0.5255\n",
            "Epoch 42/200\n",
            "267/267 [==============================] - 29s 108ms/step - loss: 1.1229 - accuracy: 0.6693 - val_loss: 1.8616 - val_accuracy: 0.5249\n",
            "Epoch 43/200\n",
            "267/267 [==============================] - 29s 108ms/step - loss: 1.1013 - accuracy: 0.6746 - val_loss: 1.8641 - val_accuracy: 0.5237\n",
            "Epoch 44/200\n",
            "267/267 [==============================] - 29s 108ms/step - loss: 1.0872 - accuracy: 0.6772 - val_loss: 1.8837 - val_accuracy: 0.5209\n"
          ]
        }
      ]
    },
    {
      "cell_type": "code",
      "source": [
        "scores = model.evaluate(X_test, y_test, verbose=1)\n",
        "print('Test loss:', scores[0])\n",
        "print('Test accuracy:', scores[1])"
      ],
      "metadata": {
        "colab": {
          "base_uri": "https://localhost:8080/"
        },
        "id": "Jq3CZVZgBIbc",
        "outputId": "f4abef6b-dec9-49f1-d0cb-e115290b8423"
      },
      "execution_count": 20,
      "outputs": [
        {
          "output_type": "stream",
          "name": "stdout",
          "text": [
            "313/313 [==============================] - 3s 9ms/step - loss: 1.7837 - accuracy: 0.5297\n",
            "Test loss: 1.783737063407898\n",
            "Test accuracy: 0.529699981212616\n"
          ]
        }
      ]
    },
    {
      "cell_type": "code",
      "source": [
        "def pred (img_path) :\n",
        "    \n",
        "    img = cv2.imread(img_path, cv2.IMREAD_COLOR)\n",
        "    \n",
        "    plt.imshow(img, cmap='gray')\n",
        "    plt.axis('off')\n",
        "    plt.show()\n",
        "\n",
        "    image = cv2.GaussianBlur(img, (5,5), 0)\n",
        "    \n",
        "    \n",
        "    x = [image[10:50, 30:50], image[10:50, 50:70], image[10:50, 70:90],\n",
        "                  image[10:50, 90:110], image[10:50, 110:130]]\n",
        "    \n",
        "    X_pred = []\n",
        "    for i in range(5) :\n",
        "        X_pred.append(img_to_array(Image.fromarray(x[i])))\n",
        "    \n",
        "    X_pred = np.array(X_pred)\n",
        "    X_pred/= 255.0\n",
        "    \n",
        "    y_pred = model.predict(X_pred)\n",
        "    y_pred = np.argmax(y_pred, axis = 1)\n",
        "    \n",
        "    print('Prediction: ', end='')\n",
        "    for res in y_pred :\n",
        "        print(info[res], end='')\n",
        "        \n",
        "    print('\\nActual:    ', img_path[len(img_path)-9:len(img_path)-4])"
      ],
      "metadata": {
        "id": "2XXB8KLOFLj2"
      },
      "execution_count": 21,
      "outputs": []
    },
    {
      "cell_type": "code",
      "source": [
        "import matplotlib.pyplot as plt\n",
        "import matplotlib.image as img\n",
        "from PIL import Image\n",
        "\n",
        "pred(directory1+'/'+'FZmSj.jpg')"
      ],
      "metadata": {
        "colab": {
          "base_uri": "https://localhost:8080/",
          "height": 157
        },
        "id": "71JP2xzPFSgH",
        "outputId": "00e81e23-6f0e-4f30-dc9a-983d4d018d20"
      },
      "execution_count": 26,
      "outputs": [
        {
          "output_type": "display_data",
          "data": {
            "image/png": "[encoded data removed]",
            "text/plain": [
              "<Figure size 432x288 with 1 Axes>"
            ]
          },
          "metadata": {
            "needs_background": "light"
          }
        },
        {
          "output_type": "stream",
          "name": "stdout",
          "text": [
            "Prediction: fZnJC\n",
            "Actual:     FZmSj\n"
          ]
        }
      ]
    },
    {
      "cell_type": "code",
      "source": [
        "\n",
        "import matplotlib.pyplot as plt\n",
        "import numpy as np\n",
        "import pandas as pd\n",
        "import tensorflow as tf\n",
        "\n",
        "from sklearn.metrics import accuracy_score, precision_score, recall_score\n",
        "from sklearn.model_selection import train_test_split\n",
        "from tensorflow.keras import layers, losses\n",
        "from tensorflow.keras.datasets import fashion_mnist\n",
        "from tensorflow.keras.models import Model\n",
        "from skimage.transform import resize"
      ],
      "metadata": {
        "id": "-aOzP6HT6Znf"
      },
      "execution_count": 11,
      "outputs": []
    },
    {
      "cell_type": "code",
      "source": [
        "img= []\n",
        "count = 0\n",
        "for file in file_list1[:10000]:\n",
        "  image = io.imread(directory1+'/'+ file)\n",
        "  image = resize(image, (32, 128))  \n",
        "  img.append(image)"
      ],
      "metadata": {
        "id": "sPHt7hHh6Za1"
      },
      "execution_count": null,
      "outputs": []
    },
    {
      "cell_type": "code",
      "source": [
        "train = np.array(img)\n",
        "train.shape"
      ],
      "metadata": {
        "id": "o_9jvlK4vDkI"
      },
      "execution_count": null,
      "outputs": []
    },
    {
      "cell_type": "code",
      "source": [
        "train = np.resize(train, (10000, 34,128,3))"
      ],
      "metadata": {
        "id": "_NJdAS9Q5N_z"
      },
      "execution_count": null,
      "outputs": []
    },
    {
      "cell_type": "code",
      "source": [
        "n = 10\n",
        "plt.figure(figsize=(20, 2))\n",
        "for i in range(n):\n",
        "    ax = plt.subplot(1, n, i + 1)\n",
        "    plt.title(\"original + noise\")\n",
        "    plt.imshow(tf.squeeze(train[i]))\n",
        "    plt.gray()\n",
        "plt.show()"
      ],
      "metadata": {
        "colab": {
          "base_uri": "https://localhost:8080/",
          "height": 88
        },
        "id": "qjt1u28Z4JYi",
        "outputId": "7ca9583b-5973-41fe-c955-91b685d34675"
      },
      "execution_count": 167,
      "outputs": [
        {
          "output_type": "display_data",
          "data": {
            "image/png": "[encoded data removed]",
            "text/plain": [
              "<Figure size 1440x144 with 10 Axes>"
            ]
          },
          "metadata": {
            "needs_background": "light"
          }
        }
      ]
    },
    {
      "cell_type": "code",
      "source": [
        "from PIL import Image, ImageDraw, ImageFont\n",
        "import numpy as np\n",
        "\n",
        "# gfg_logo.jpeg image opened using open\n",
        "# function and assigned to variable named img\n",
        "img = Image.open('/content/drive/MyDrive/white.jpg')\n",
        "img = img.resize((150,40))\n",
        "# Image is converted into editable form using\n",
        "# Draw function and assigned to d1\n",
        "d1 = ImageDraw.Draw(img)\n",
        "fontsize = 36\n",
        "font = ImageFont.truetype(\"/content/drive/MyDrive/arial.ttf\", fontsize)\n",
        "# Decide the text location, color and font\n",
        "d1.text((20, 0), \"Fg1zg\", fill =(0, 0, 0), font = font)\n",
        " \n",
        "# show and save the image\n",
        "img.show()\n",
        "img.save(\"/content/drive/MyDrive/results.jpg\")\n"
      ],
      "metadata": {
        "id": "gVFjOoDn1_mN"
      },
      "execution_count": 206,
      "outputs": []
    },
    {
      "cell_type": "code",
      "source": [
        "def image_make(text):\n",
        "  img = Image.open('/content/drive/MyDrive/white.jpg')\n",
        "  img = img.resize((128,32))\n",
        "  d1 = ImageDraw.Draw(img)\n",
        "  fontsize = 36\n",
        "  font = ImageFont.truetype(\"/content/drive/MyDrive/arial.ttf\", fontsize)\n",
        "  d1.text((20, 0), text, fill =(0, 0, 0), font = font)\n",
        "  return img"
      ],
      "metadata": {
        "id": "mLZu2U0_RrWi"
      },
      "execution_count": 233,
      "outputs": []
    },
    {
      "cell_type": "code",
      "source": [
        "label = []\n",
        "for i in file_list1[:10000]:\n",
        "  i = i.replace('.jpg','')\n",
        "  img = image_make(i)\n",
        "  img = np.array(img)\n",
        "  label.append(img)\n"
      ],
      "metadata": {
        "id": "FR3HOlNXue_Q"
      },
      "execution_count": 234,
      "outputs": []
    },
    {
      "cell_type": "code",
      "source": [
        "label = np.array(label)\n",
        "label.shape"
      ],
      "metadata": {
        "colab": {
          "base_uri": "https://localhost:8080/"
        },
        "id": "lbYWmjCI16UF",
        "outputId": "11fb17b5-5d67-41c0-af8d-6eeb355ffe23"
      },
      "execution_count": 235,
      "outputs": [
        {
          "output_type": "execute_result",
          "data": {
            "text/plain": [
              "(10000, 32, 128, 3)"
            ]
          },
          "metadata": {},
          "execution_count": 235
        }
      ]
    },
    {
      "cell_type": "code",
      "source": [
        "x_train, x_test, y_train, y_test = train_test_split(train, label, test_size=0.2)"
      ],
      "metadata": {
        "id": "1PEZcbZg0DWO"
      },
      "execution_count": 236,
      "outputs": []
    },
    {
      "cell_type": "code",
      "source": [
        ""
      ],
      "metadata": {
        "id": "ZRQ3O89R1x5i"
      },
      "execution_count": null,
      "outputs": []
    },
    {
      "cell_type": "code",
      "source": [
        ""
      ],
      "metadata": {
        "id": "2-oUYI7YbtR8"
      },
      "execution_count": null,
      "outputs": []
    },
    {
      "cell_type": "code",
      "source": [
        "BUFFER_SIZE = 1000\n",
        "BATCH_SIZE = 1\n",
        "IMG_WIDTH = 256\n",
        "IMG_HEIGHT = 256"
      ],
      "metadata": {
        "id": "CB8jCP0lbtPf"
      },
      "execution_count": null,
      "outputs": []
    },
    {
      "cell_type": "code",
      "source": [
        "def random_crop(image):\n",
        "  cropped_image = tf.image.random_crop(\n",
        "      image, size=[IMG_HEIGHT, IMG_WIDTH, 3])\n",
        "\n",
        "  return cropped_image\n",
        "# 이미지의 특정 부위를 랜덤하게 잘라내는 기능\n",
        "\n",
        "\n",
        "# normalizing the images to [-1, 1]\n",
        "def normalize(image):\n",
        "  image = tf.cast(image, tf.float32)\n",
        "  image = (image / 127.5) - 1\n",
        "  return image\n",
        "#이미지의 값의 범위를 0~255가 아니라 -1~1 사이의 값으로 변경하는 기능\n",
        "\n",
        "\n",
        "def random_jitter(image):\n",
        "  # resizing to 286 x 286 x 3\n",
        "  image = tf.image.resize(image, [286, 286],\n",
        "                          method=tf.image.ResizeMethod.NEAREST_NEIGHBOR)\n",
        "\n",
        "  # randomly cropping to 256 x 256 x 3\n",
        "  image = random_crop(image)\n",
        "\n",
        "  # random mirroring\n",
        "  image = tf.image.random_flip_left_right(image)\n",
        "\n",
        "  return image\n",
        "# 지터링, 즉 데이터 사이즈를 키워서 임의의 공간을 잘라내서 flip을 하여, 같은 이미지도 약간씩 모양이 다르도록 하여 마치 데이터 개수가 늘어난 것처럼 하는 데이터 증강 기법\n",
        "\n",
        "\n",
        "def preprocess_image_train(image, label):\n",
        "  image = random_jitter(image)\n",
        "  image = normalize(image)\n",
        "  return image\n",
        "# 지터링과 데이터 normalize를 동시에 적용하는 기능\n",
        "def preprocess_image_test(image, label):\n",
        "  image = normalize(image)\n",
        "  return image\n",
        "# 그냥 normalize만 하는 기능.\n",
        "\n"
      ],
      "metadata": {
        "id": "H64mIugUbtM4"
      },
      "execution_count": null,
      "outputs": []
    },
    {
      "cell_type": "code",
      "source": [
        "import tensorflow as tf\n",
        "\n",
        "\n",
        "import tensorflow_datasets as tfds\n",
        "from tensorflow_examples.models.pix2pix import pix2pix\n",
        "\n",
        "import os\n",
        "import time\n",
        "import matplotlib.pyplot as plt\n",
        "from IPython.display import clear_output\n",
        "\n",
        "tfds.disable_progress_bar()\n",
        "AUTOTUNE = tf.data.experimental.AUTOTUNE"
      ],
      "metadata": {
        "id": "l9Ocx-YycMgX"
      },
      "execution_count": 5,
      "outputs": []
    },
    {
      "cell_type": "code",
      "source": [
        "plt.subplot(121)\n",
        "plt.title('Horse')\n",
        "plt.imshow(x_train[0] * 0.5 + 0.5)\n",
        "\n",
        "plt.subplot(122)\n",
        "plt.title('Horse with random jitter')\n",
        "plt.imshow(random_jitter(x_train[0]) * 0.5 + 0.5)"
      ],
      "metadata": {
        "colab": {
          "base_uri": "https://localhost:8080/",
          "height": 512
        },
        "id": "AeVUHaXbbtKG",
        "outputId": "d198430a-c902-4e89-9d69-914e4222d44c"
      },
      "execution_count": 10,
      "outputs": [
        {
          "output_type": "error",
          "ename": "NameError",
          "evalue": "ignored",
          "traceback": [
            "\u001b[0;31m---------------------------------------------------------------------------\u001b[0m",
            "\u001b[0;31mNameError\u001b[0m                                 Traceback (most recent call last)",
            "\u001b[0;32m<ipython-input-10-f1703a07d2bd>\u001b[0m in \u001b[0;36m<module>\u001b[0;34m()\u001b[0m\n\u001b[1;32m      1\u001b[0m \u001b[0mplt\u001b[0m\u001b[0;34m.\u001b[0m\u001b[0msubplot\u001b[0m\u001b[0;34m(\u001b[0m\u001b[0;36m121\u001b[0m\u001b[0;34m)\u001b[0m\u001b[0;34m\u001b[0m\u001b[0;34m\u001b[0m\u001b[0m\n\u001b[1;32m      2\u001b[0m \u001b[0mplt\u001b[0m\u001b[0;34m.\u001b[0m\u001b[0mtitle\u001b[0m\u001b[0;34m(\u001b[0m\u001b[0;34m'Horse'\u001b[0m\u001b[0;34m)\u001b[0m\u001b[0;34m\u001b[0m\u001b[0;34m\u001b[0m\u001b[0m\n\u001b[0;32m----> 3\u001b[0;31m \u001b[0mplt\u001b[0m\u001b[0;34m.\u001b[0m\u001b[0mimshow\u001b[0m\u001b[0;34m(\u001b[0m\u001b[0mx_train\u001b[0m\u001b[0;34m[\u001b[0m\u001b[0;36m0\u001b[0m\u001b[0;34m]\u001b[0m \u001b[0;34m*\u001b[0m \u001b[0;36m0.5\u001b[0m \u001b[0;34m+\u001b[0m \u001b[0;36m0.5\u001b[0m\u001b[0;34m)\u001b[0m\u001b[0;34m\u001b[0m\u001b[0;34m\u001b[0m\u001b[0m\n\u001b[0m\u001b[1;32m      4\u001b[0m \u001b[0;34m\u001b[0m\u001b[0m\n\u001b[1;32m      5\u001b[0m \u001b[0mplt\u001b[0m\u001b[0;34m.\u001b[0m\u001b[0msubplot\u001b[0m\u001b[0;34m(\u001b[0m\u001b[0;36m122\u001b[0m\u001b[0;34m)\u001b[0m\u001b[0;34m\u001b[0m\u001b[0;34m\u001b[0m\u001b[0m\n",
            "\u001b[0;31mNameError\u001b[0m: name 'x_train' is not defined"
          ]
        },
        {
          "output_type": "display_data",
          "data": {
            "image/png": "[encoded data removed]",
            "text/plain": [
              "<Figure size 432x288 with 1 Axes>"
            ]
          },
          "metadata": {
            "needs_background": "light"
          }
        }
      ]
    },
    {
      "cell_type": "code",
      "source": [
        ""
      ],
      "metadata": {
        "id": "FWbUF_VZbtHo"
      },
      "execution_count": null,
      "outputs": []
    },
    {
      "cell_type": "code",
      "source": [
        "noise_factor = 0.2\n",
        "x_train_noisy = x_train + noise_factor * tf.random.normal(shape=x_train.shape) \n",
        "x_test_noisy = x_test + noise_factor * tf.random.normal(shape=x_test.shape) \n",
        "\n",
        "x_train_noisy = tf.clip_by_value(x_train_noisy, clip_value_min=0., clip_value_max=1.)\n",
        "x_test_noisy = tf.clip_by_value(x_test_noisy, clip_value_min=0., clip_value_max=1.)"
      ],
      "metadata": {
        "id": "nqv4_gb-2VAd"
      },
      "execution_count": 169,
      "outputs": []
    },
    {
      "cell_type": "code",
      "source": [
        "class Denoise(Model):\n",
        "  def __init__(self):\n",
        "    super(Denoise, self).__init__()\n",
        "    self.encoder = tf.keras.Sequential([\n",
        "      layers.Input(shape=(32, 128, 3)), \n",
        "      layers.Conv2D(16, (3,3), activation='relu', padding='same', strides=2),\n",
        "      layers.Conv2D(8, (3,3), activation='relu', padding='same', strides=2)])\n",
        "    \n",
        "    self.decoder = tf.keras.Sequential([\n",
        "      layers.Conv2DTranspose(8, kernel_size=3, strides=2, activation='relu', padding='same'),\n",
        "      layers.Conv2DTranspose(16, kernel_size=3, strides=2, activation='relu', padding='same'),\n",
        "      layers.Conv2D(3, kernel_size=(3,3), activation='sigmoid', padding='same')])\n",
        "    \n",
        "  def call(self, x):\n",
        "    encoded = self.encoder(x)\n",
        "    decoded = self.decoder(encoded)\n",
        "    return decoded\n",
        "\n",
        "autoencoder = Denoise()"
      ],
      "metadata": {
        "id": "7enp8FAilBtF"
      },
      "execution_count": 170,
      "outputs": []
    },
    {
      "cell_type": "code",
      "source": [
        "pip install tensorflow_addons"
      ],
      "metadata": {
        "id": "8rcQaW_e_Sis"
      },
      "execution_count": null,
      "outputs": []
    },
    {
      "cell_type": "code",
      "source": [
        "import tensorflow.keras.backend as K\n",
        "import tensorflow_addons as tfa"
      ],
      "metadata": {
        "id": "gaETtejY_JHs"
      },
      "execution_count": 245,
      "outputs": []
    },
    {
      "cell_type": "code",
      "source": [
        "class Denoise(Model):\n",
        "  def __init__(self):\n",
        "    K.clear_session()\n",
        "    super(Denoise, self).__init__()\n",
        "    self.encoder = tf.keras.Sequential([\n",
        "      layers.Input(shape=(32, 128, 3)),\n",
        "      layers.Conv2D(512, (3,3), activation='relu', padding='same'),\n",
        "      layers.Conv2D(512, (3,3), activation='relu', padding='same'),\n",
        "      layers.MaxPooling2D((2,2), padding ='same'),\n",
        "      layers.Conv2D(256, (3,3), activation='relu', padding='same'),\n",
        "      layers.Conv2D(256, (3,3), activation='relu', padding='same'),\n",
        "      layers.MaxPooling2D((2,2), padding ='same'),\n",
        "      layers.Conv2D(64, (3,3), activation='relu', padding='same'),\n",
        "      layers.Conv2D(64, (3,3), activation='relu', padding='same'),\n",
        "      layers.Conv2D(64, (3,3), activation='relu', padding='same'),\n",
        "      layers.MaxPooling2D((2,2), padding ='same'),\n",
        "      layers.Conv2D(16, (3,3), activation='relu', padding='same'),\n",
        "      layers.Conv2D(16, (3,3), activation='relu', padding='same'),\n",
        "      layers.Conv2D(16, (3,3), activation='relu', padding='same'),\n",
        "      layers.Conv2D(16, (3,3), activation='relu', padding='same'),\n",
        "      layers.MaxPooling2D((2,2), padding ='same'),          \n",
        "      layers.Conv2D(8, (3,3), activation='relu', padding='same'),\n",
        "      layers.Conv2D(8, (3,3), activation='relu', padding='same'),\n",
        "      layers.Conv2D(8, (3,3), activation='relu', padding='same'),\n",
        "      layers.Conv2D(8, (3,3), activation='relu', padding='same')\n",
        "      ])\n",
        "    \n",
        "    self.decoder = tf.keras.Sequential([\n",
        "      layers.Conv2DTranspose(8, kernel_size=3, strides=2, activation='relu', padding='same'),\n",
        "      layers.Conv2DTranspose(16, kernel_size=3, strides=2, activation='relu', padding='same'),\n",
        "      layers.Conv2DTranspose(64, kernel_size=3, strides=2, activation='relu', padding='same'),\n",
        "      layers.Conv2DTranspose(256, kernel_size=3, strides=2, activation='relu', padding='same'),\n",
        "      layers.Conv2DTranspose(512, kernel_size=3, strides=1, activation='relu', padding='same'),  \n",
        "      layers.Conv2DTranspose(3, kernel_size=(3,3), activation='sigmoid', padding='same')])\n",
        "    \n",
        "  def call(self, x):\n",
        "    encoded = self.encoder(x)\n",
        "    decoded = self.decoder(encoded)\n",
        "    return decoded\n",
        "\n",
        "autoencoder = Denoise()"
      ],
      "metadata": {
        "id": "vdNf0Bwm_Air"
      },
      "execution_count": 240,
      "outputs": []
    },
    {
      "cell_type": "code",
      "source": [
        "opt = tfa.optimizers.RectifiedAdam(lr=3e-4)\n",
        "autoencoder.compile(optimizer=opt, loss='mse', metrics = [tf.keras.metrics.RootMeanSquaredError()])"
      ],
      "metadata": {
        "colab": {
          "base_uri": "https://localhost:8080/"
        },
        "id": "CSM1zgjM_Mw7",
        "outputId": "5d31d800-2479-4dfe-8cef-b8b3e8ec3e7f"
      },
      "execution_count": 246,
      "outputs": [
        {
          "output_type": "stream",
          "name": "stderr",
          "text": [
            "/usr/local/lib/python3.7/dist-packages/tensorflow_addons/optimizers/rectified_adam.py:120: UserWarning: The `lr` argument is deprecated, use `learning_rate` instead.\n",
            "  super().__init__(name, **kwargs)\n"
          ]
        }
      ]
    },
    {
      "cell_type": "code",
      "source": [
        "autoencoder.compile(optimizer='adam', loss=losses.MeanSquaredError())"
      ],
      "metadata": {
        "id": "vwfoX7JWlBjl"
      },
      "execution_count": 171,
      "outputs": []
    },
    {
      "cell_type": "code",
      "source": [
        "cb_lr_schedule = tf.keras.callbacks.ReduceLROnPlateau(monitor = 'val_loss', factor = 0.4, patience = 2,\n",
        "                                                      verbose = 1, mode = 'min',min_delta = 0.0001)\n",
        "\n",
        "early_stopping = tf.keras.callbacks.EarlyStopping(monitor = 'val_loss', mode = 'min', patience = 5, \n",
        "                                                  verbose = 1, min_delta = 0.0001)\n",
        "\n",
        "\n",
        "history = autoencoder.fit(x_train, y_train,\n",
        "          epochs=20,\n",
        "          batch_size=8, \n",
        "          validation_data=(x_test, y_test),\n",
        "          callbacks= [cb_lr_schedule, early_stopping], \n",
        "          shuffle=True)"
      ],
      "metadata": {
        "colab": {
          "base_uri": "https://localhost:8080/",
          "height": 400
        },
        "id": "vAbF01eP_aGw",
        "outputId": "9b69ee33-d945-4dbb-e3ad-2e921db9b102"
      },
      "execution_count": 248,
      "outputs": [
        {
          "output_type": "stream",
          "name": "stdout",
          "text": [
            "Epoch 1/20\n",
            "  14/1000 [..............................] - ETA: 3:56:22 - loss: 50351.3633 - root_mean_squared_error: 224.3912"
          ]
        },
        {
          "output_type": "error",
          "ename": "KeyboardInterrupt",
          "evalue": "ignored",
          "traceback": [
            "\u001b[0;31m---------------------------------------------------------------------------\u001b[0m",
            "\u001b[0;31mKeyboardInterrupt\u001b[0m                         Traceback (most recent call last)",
            "\u001b[0;32m<ipython-input-248-4bc25b046293>\u001b[0m in \u001b[0;36m<module>\u001b[0;34m()\u001b[0m\n\u001b[1;32m     11\u001b[0m           \u001b[0mvalidation_data\u001b[0m\u001b[0;34m=\u001b[0m\u001b[0;34m(\u001b[0m\u001b[0mx_test\u001b[0m\u001b[0;34m,\u001b[0m \u001b[0my_test\u001b[0m\u001b[0;34m)\u001b[0m\u001b[0;34m,\u001b[0m\u001b[0;34m\u001b[0m\u001b[0;34m\u001b[0m\u001b[0m\n\u001b[1;32m     12\u001b[0m           \u001b[0mcallbacks\u001b[0m\u001b[0;34m=\u001b[0m \u001b[0;34m[\u001b[0m\u001b[0mcb_lr_schedule\u001b[0m\u001b[0;34m,\u001b[0m \u001b[0mearly_stopping\u001b[0m\u001b[0;34m]\u001b[0m\u001b[0;34m,\u001b[0m\u001b[0;34m\u001b[0m\u001b[0;34m\u001b[0m\u001b[0m\n\u001b[0;32m---> 13\u001b[0;31m           shuffle=True)\n\u001b[0m",
            "\u001b[0;32m/usr/local/lib/python3.7/dist-packages/keras/utils/traceback_utils.py\u001b[0m in \u001b[0;36merror_handler\u001b[0;34m(*args, **kwargs)\u001b[0m\n\u001b[1;32m     62\u001b[0m     \u001b[0mfiltered_tb\u001b[0m \u001b[0;34m=\u001b[0m \u001b[0;32mNone\u001b[0m\u001b[0;34m\u001b[0m\u001b[0;34m\u001b[0m\u001b[0m\n\u001b[1;32m     63\u001b[0m     \u001b[0;32mtry\u001b[0m\u001b[0;34m:\u001b[0m\u001b[0;34m\u001b[0m\u001b[0;34m\u001b[0m\u001b[0m\n\u001b[0;32m---> 64\u001b[0;31m       \u001b[0;32mreturn\u001b[0m \u001b[0mfn\u001b[0m\u001b[0;34m(\u001b[0m\u001b[0;34m*\u001b[0m\u001b[0margs\u001b[0m\u001b[0;34m,\u001b[0m \u001b[0;34m**\u001b[0m\u001b[0mkwargs\u001b[0m\u001b[0;34m)\u001b[0m\u001b[0;34m\u001b[0m\u001b[0;34m\u001b[0m\u001b[0m\n\u001b[0m\u001b[1;32m     65\u001b[0m     \u001b[0;32mexcept\u001b[0m \u001b[0mException\u001b[0m \u001b[0;32mas\u001b[0m \u001b[0me\u001b[0m\u001b[0;34m:\u001b[0m  \u001b[0;31m# pylint: disable=broad-except\u001b[0m\u001b[0;34m\u001b[0m\u001b[0;34m\u001b[0m\u001b[0m\n\u001b[1;32m     66\u001b[0m       \u001b[0mfiltered_tb\u001b[0m \u001b[0;34m=\u001b[0m \u001b[0m_process_traceback_frames\u001b[0m\u001b[0;34m(\u001b[0m\u001b[0me\u001b[0m\u001b[0;34m.\u001b[0m\u001b[0m__traceback__\u001b[0m\u001b[0;34m)\u001b[0m\u001b[0;34m\u001b[0m\u001b[0;34m\u001b[0m\u001b[0m\n",
            "\u001b[0;32m/usr/local/lib/python3.7/dist-packages/keras/engine/training.py\u001b[0m in \u001b[0;36mfit\u001b[0;34m(self, x, y, batch_size, epochs, verbose, callbacks, validation_split, validation_data, shuffle, class_weight, sample_weight, initial_epoch, steps_per_epoch, validation_steps, validation_batch_size, validation_freq, max_queue_size, workers, use_multiprocessing)\u001b[0m\n\u001b[1;32m   1214\u001b[0m                 _r=1):\n\u001b[1;32m   1215\u001b[0m               \u001b[0mcallbacks\u001b[0m\u001b[0;34m.\u001b[0m\u001b[0mon_train_batch_begin\u001b[0m\u001b[0;34m(\u001b[0m\u001b[0mstep\u001b[0m\u001b[0;34m)\u001b[0m\u001b[0;34m\u001b[0m\u001b[0;34m\u001b[0m\u001b[0m\n\u001b[0;32m-> 1216\u001b[0;31m               \u001b[0mtmp_logs\u001b[0m \u001b[0;34m=\u001b[0m \u001b[0mself\u001b[0m\u001b[0;34m.\u001b[0m\u001b[0mtrain_function\u001b[0m\u001b[0;34m(\u001b[0m\u001b[0miterator\u001b[0m\u001b[0;34m)\u001b[0m\u001b[0;34m\u001b[0m\u001b[0;34m\u001b[0m\u001b[0m\n\u001b[0m\u001b[1;32m   1217\u001b[0m               \u001b[0;32mif\u001b[0m \u001b[0mdata_handler\u001b[0m\u001b[0;34m.\u001b[0m\u001b[0mshould_sync\u001b[0m\u001b[0;34m:\u001b[0m\u001b[0;34m\u001b[0m\u001b[0;34m\u001b[0m\u001b[0m\n\u001b[1;32m   1218\u001b[0m                 \u001b[0mcontext\u001b[0m\u001b[0;34m.\u001b[0m\u001b[0masync_wait\u001b[0m\u001b[0;34m(\u001b[0m\u001b[0;34m)\u001b[0m\u001b[0;34m\u001b[0m\u001b[0;34m\u001b[0m\u001b[0m\n",
            "\u001b[0;32m/usr/local/lib/python3.7/dist-packages/tensorflow/python/util/traceback_utils.py\u001b[0m in \u001b[0;36merror_handler\u001b[0;34m(*args, **kwargs)\u001b[0m\n\u001b[1;32m    148\u001b[0m     \u001b[0mfiltered_tb\u001b[0m \u001b[0;34m=\u001b[0m \u001b[0;32mNone\u001b[0m\u001b[0;34m\u001b[0m\u001b[0;34m\u001b[0m\u001b[0m\n\u001b[1;32m    149\u001b[0m     \u001b[0;32mtry\u001b[0m\u001b[0;34m:\u001b[0m\u001b[0;34m\u001b[0m\u001b[0;34m\u001b[0m\u001b[0m\n\u001b[0;32m--> 150\u001b[0;31m       \u001b[0;32mreturn\u001b[0m \u001b[0mfn\u001b[0m\u001b[0;34m(\u001b[0m\u001b[0;34m*\u001b[0m\u001b[0margs\u001b[0m\u001b[0;34m,\u001b[0m \u001b[0;34m**\u001b[0m\u001b[0mkwargs\u001b[0m\u001b[0;34m)\u001b[0m\u001b[0;34m\u001b[0m\u001b[0;34m\u001b[0m\u001b[0m\n\u001b[0m\u001b[1;32m    151\u001b[0m     \u001b[0;32mexcept\u001b[0m \u001b[0mException\u001b[0m \u001b[0;32mas\u001b[0m \u001b[0me\u001b[0m\u001b[0;34m:\u001b[0m\u001b[0;34m\u001b[0m\u001b[0;34m\u001b[0m\u001b[0m\n\u001b[1;32m    152\u001b[0m       \u001b[0mfiltered_tb\u001b[0m \u001b[0;34m=\u001b[0m \u001b[0m_process_traceback_frames\u001b[0m\u001b[0;34m(\u001b[0m\u001b[0me\u001b[0m\u001b[0;34m.\u001b[0m\u001b[0m__traceback__\u001b[0m\u001b[0;34m)\u001b[0m\u001b[0;34m\u001b[0m\u001b[0;34m\u001b[0m\u001b[0m\n",
            "\u001b[0;32m/usr/local/lib/python3.7/dist-packages/tensorflow/python/eager/def_function.py\u001b[0m in \u001b[0;36m__call__\u001b[0;34m(self, *args, **kwds)\u001b[0m\n\u001b[1;32m    908\u001b[0m \u001b[0;34m\u001b[0m\u001b[0m\n\u001b[1;32m    909\u001b[0m       \u001b[0;32mwith\u001b[0m \u001b[0mOptionalXlaContext\u001b[0m\u001b[0;34m(\u001b[0m\u001b[0mself\u001b[0m\u001b[0;34m.\u001b[0m\u001b[0m_jit_compile\u001b[0m\u001b[0;34m)\u001b[0m\u001b[0;34m:\u001b[0m\u001b[0;34m\u001b[0m\u001b[0;34m\u001b[0m\u001b[0m\n\u001b[0;32m--> 910\u001b[0;31m         \u001b[0mresult\u001b[0m \u001b[0;34m=\u001b[0m \u001b[0mself\u001b[0m\u001b[0;34m.\u001b[0m\u001b[0m_call\u001b[0m\u001b[0;34m(\u001b[0m\u001b[0;34m*\u001b[0m\u001b[0margs\u001b[0m\u001b[0;34m,\u001b[0m \u001b[0;34m**\u001b[0m\u001b[0mkwds\u001b[0m\u001b[0;34m)\u001b[0m\u001b[0;34m\u001b[0m\u001b[0;34m\u001b[0m\u001b[0m\n\u001b[0m\u001b[1;32m    911\u001b[0m \u001b[0;34m\u001b[0m\u001b[0m\n\u001b[1;32m    912\u001b[0m       \u001b[0mnew_tracing_count\u001b[0m \u001b[0;34m=\u001b[0m \u001b[0mself\u001b[0m\u001b[0;34m.\u001b[0m\u001b[0mexperimental_get_tracing_count\u001b[0m\u001b[0;34m(\u001b[0m\u001b[0;34m)\u001b[0m\u001b[0;34m\u001b[0m\u001b[0;34m\u001b[0m\u001b[0m\n",
            "\u001b[0;32m/usr/local/lib/python3.7/dist-packages/tensorflow/python/eager/def_function.py\u001b[0m in \u001b[0;36m_call\u001b[0;34m(self, *args, **kwds)\u001b[0m\n\u001b[1;32m    940\u001b[0m       \u001b[0;31m# In this case we have created variables on the first call, so we run the\u001b[0m\u001b[0;34m\u001b[0m\u001b[0;34m\u001b[0m\u001b[0;34m\u001b[0m\u001b[0m\n\u001b[1;32m    941\u001b[0m       \u001b[0;31m# defunned version which is guaranteed to never create variables.\u001b[0m\u001b[0;34m\u001b[0m\u001b[0;34m\u001b[0m\u001b[0;34m\u001b[0m\u001b[0m\n\u001b[0;32m--> 942\u001b[0;31m       \u001b[0;32mreturn\u001b[0m \u001b[0mself\u001b[0m\u001b[0;34m.\u001b[0m\u001b[0m_stateless_fn\u001b[0m\u001b[0;34m(\u001b[0m\u001b[0;34m*\u001b[0m\u001b[0margs\u001b[0m\u001b[0;34m,\u001b[0m \u001b[0;34m**\u001b[0m\u001b[0mkwds\u001b[0m\u001b[0;34m)\u001b[0m  \u001b[0;31m# pylint: disable=not-callable\u001b[0m\u001b[0;34m\u001b[0m\u001b[0;34m\u001b[0m\u001b[0m\n\u001b[0m\u001b[1;32m    943\u001b[0m     \u001b[0;32melif\u001b[0m \u001b[0mself\u001b[0m\u001b[0;34m.\u001b[0m\u001b[0m_stateful_fn\u001b[0m \u001b[0;32mis\u001b[0m \u001b[0;32mnot\u001b[0m \u001b[0;32mNone\u001b[0m\u001b[0;34m:\u001b[0m\u001b[0;34m\u001b[0m\u001b[0;34m\u001b[0m\u001b[0m\n\u001b[1;32m    944\u001b[0m       \u001b[0;31m# Release the lock early so that multiple threads can perform the call\u001b[0m\u001b[0;34m\u001b[0m\u001b[0;34m\u001b[0m\u001b[0;34m\u001b[0m\u001b[0m\n",
            "\u001b[0;32m/usr/local/lib/python3.7/dist-packages/tensorflow/python/eager/function.py\u001b[0m in \u001b[0;36m__call__\u001b[0;34m(self, *args, **kwargs)\u001b[0m\n\u001b[1;32m   3129\u001b[0m        filtered_flat_args) = self._maybe_define_function(args, kwargs)\n\u001b[1;32m   3130\u001b[0m     return graph_function._call_flat(\n\u001b[0;32m-> 3131\u001b[0;31m         filtered_flat_args, captured_inputs=graph_function.captured_inputs)  # pylint: disable=protected-access\n\u001b[0m\u001b[1;32m   3132\u001b[0m \u001b[0;34m\u001b[0m\u001b[0m\n\u001b[1;32m   3133\u001b[0m   \u001b[0;34m@\u001b[0m\u001b[0mproperty\u001b[0m\u001b[0;34m\u001b[0m\u001b[0;34m\u001b[0m\u001b[0m\n",
            "\u001b[0;32m/usr/local/lib/python3.7/dist-packages/tensorflow/python/eager/function.py\u001b[0m in \u001b[0;36m_call_flat\u001b[0;34m(self, args, captured_inputs, cancellation_manager)\u001b[0m\n\u001b[1;32m   1958\u001b[0m       \u001b[0;31m# No tape is watching; skip to running the function.\u001b[0m\u001b[0;34m\u001b[0m\u001b[0;34m\u001b[0m\u001b[0;34m\u001b[0m\u001b[0m\n\u001b[1;32m   1959\u001b[0m       return self._build_call_outputs(self._inference_function.call(\n\u001b[0;32m-> 1960\u001b[0;31m           ctx, args, cancellation_manager=cancellation_manager))\n\u001b[0m\u001b[1;32m   1961\u001b[0m     forward_backward = self._select_forward_and_backward_functions(\n\u001b[1;32m   1962\u001b[0m         \u001b[0margs\u001b[0m\u001b[0;34m,\u001b[0m\u001b[0;34m\u001b[0m\u001b[0;34m\u001b[0m\u001b[0m\n",
            "\u001b[0;32m/usr/local/lib/python3.7/dist-packages/tensorflow/python/eager/function.py\u001b[0m in \u001b[0;36mcall\u001b[0;34m(self, ctx, args, cancellation_manager)\u001b[0m\n\u001b[1;32m    601\u001b[0m               \u001b[0minputs\u001b[0m\u001b[0;34m=\u001b[0m\u001b[0margs\u001b[0m\u001b[0;34m,\u001b[0m\u001b[0;34m\u001b[0m\u001b[0;34m\u001b[0m\u001b[0m\n\u001b[1;32m    602\u001b[0m               \u001b[0mattrs\u001b[0m\u001b[0;34m=\u001b[0m\u001b[0mattrs\u001b[0m\u001b[0;34m,\u001b[0m\u001b[0;34m\u001b[0m\u001b[0;34m\u001b[0m\u001b[0m\n\u001b[0;32m--> 603\u001b[0;31m               ctx=ctx)\n\u001b[0m\u001b[1;32m    604\u001b[0m         \u001b[0;32melse\u001b[0m\u001b[0;34m:\u001b[0m\u001b[0;34m\u001b[0m\u001b[0;34m\u001b[0m\u001b[0m\n\u001b[1;32m    605\u001b[0m           outputs = execute.execute_with_cancellation(\n",
            "\u001b[0;32m/usr/local/lib/python3.7/dist-packages/tensorflow/python/eager/execute.py\u001b[0m in \u001b[0;36mquick_execute\u001b[0;34m(op_name, num_outputs, inputs, attrs, ctx, name)\u001b[0m\n\u001b[1;32m     57\u001b[0m     \u001b[0mctx\u001b[0m\u001b[0;34m.\u001b[0m\u001b[0mensure_initialized\u001b[0m\u001b[0;34m(\u001b[0m\u001b[0;34m)\u001b[0m\u001b[0;34m\u001b[0m\u001b[0;34m\u001b[0m\u001b[0m\n\u001b[1;32m     58\u001b[0m     tensors = pywrap_tfe.TFE_Py_Execute(ctx._handle, device_name, op_name,\n\u001b[0;32m---> 59\u001b[0;31m                                         inputs, attrs, num_outputs)\n\u001b[0m\u001b[1;32m     60\u001b[0m   \u001b[0;32mexcept\u001b[0m \u001b[0mcore\u001b[0m\u001b[0;34m.\u001b[0m\u001b[0m_NotOkStatusException\u001b[0m \u001b[0;32mas\u001b[0m \u001b[0me\u001b[0m\u001b[0;34m:\u001b[0m\u001b[0;34m\u001b[0m\u001b[0;34m\u001b[0m\u001b[0m\n\u001b[1;32m     61\u001b[0m     \u001b[0;32mif\u001b[0m \u001b[0mname\u001b[0m \u001b[0;32mis\u001b[0m \u001b[0;32mnot\u001b[0m \u001b[0;32mNone\u001b[0m\u001b[0;34m:\u001b[0m\u001b[0;34m\u001b[0m\u001b[0;34m\u001b[0m\u001b[0m\n",
            "\u001b[0;31mKeyboardInterrupt\u001b[0m: "
          ]
        }
      ]
    },
    {
      "cell_type": "code",
      "source": [
        "autoencoder.encoder.summary()"
      ],
      "metadata": {
        "colab": {
          "base_uri": "https://localhost:8080/"
        },
        "id": "r6EISaXhyjbG",
        "outputId": "17d2462c-293c-45d0-d715-235d28673bbb"
      },
      "execution_count": 131,
      "outputs": [
        {
          "output_type": "stream",
          "name": "stdout",
          "text": [
            "Model: \"sequential_19\"\n",
            "_________________________________________________________________\n",
            " Layer (type)                Output Shape              Param #   \n",
            "=================================================================\n",
            " conv2d_31 (Conv2D)          (None, 16, 16, 16)        448       \n",
            "                                                                 \n",
            " conv2d_32 (Conv2D)          (None, 8, 8, 8)           1160      \n",
            "                                                                 \n",
            "=================================================================\n",
            "Total params: 1,608\n",
            "Trainable params: 1,608\n",
            "Non-trainable params: 0\n",
            "_________________________________________________________________\n"
          ]
        }
      ]
    },
    {
      "cell_type": "code",
      "source": [
        "encoded_imgs = autoencoder.encoder(x_test).numpy()\n",
        "decoded_imgs = autoencoder.decoder(encoded_imgs).numpy()"
      ],
      "metadata": {
        "id": "2QYHBfP3qF0I"
      },
      "execution_count": 174,
      "outputs": []
    },
    {
      "cell_type": "code",
      "source": [
        "n = 10\n",
        "plt.figure(figsize=(20, 4))\n",
        "for i in range(n):\n",
        "\n",
        "\n",
        "\n",
        "    # display reconstruction\n",
        "    bx = plt.subplot(2, n, i + n + 1)\n",
        "    plt.title(\"reconstructed\")\n",
        "    plt.imshow(tf.squeeze(decoded_imgs[i]))\n",
        "    plt.gray()\n",
        "    bx.get_xaxis().set_visible(False)\n",
        "    bx.get_yaxis().set_visible(False)\n",
        "plt.show()"
      ],
      "metadata": {
        "colab": {
          "base_uri": "https://localhost:8080/",
          "height": 74
        },
        "id": "4ys4sSG91_qt",
        "outputId": "28276ee1-b60a-4645-b70f-11b6e07691d2"
      },
      "execution_count": 175,
      "outputs": [
        {
          "output_type": "display_data",
          "data": {
            "image/png": "[encoded data removed]",
            "text/plain": [
              "<Figure size 1440x288 with 10 Axes>"
            ]
          },
          "metadata": {
            "needs_background": "light"
          }
        }
      ]
    },
    {
      "cell_type": "code",
      "source": [
        "autoencoder.fit(x_train, y_train,\n",
        "                epochs=200,\n",
        "                batchsize = 150,\n",
        "                shuffle=True,\n",
        "                validation_data=(x_test, y_test))"
      ],
      "metadata": {
        "colab": {
          "base_uri": "https://localhost:8080/"
        },
        "id": "ppK5jLFNqCjb",
        "outputId": "39d0888a-b7c4-46da-b230-43e3ab2e267a"
      },
      "execution_count": 237,
      "outputs": [
        {
          "output_type": "stream",
          "name": "stdout",
          "text": [
            "Epoch 1/10\n",
            "250/250 [==============================] - 49s 197ms/step - loss: 50175.8164 - val_loss: 50172.3125\n",
            "Epoch 2/10\n",
            "250/250 [==============================] - 76s 305ms/step - loss: 50174.1602 - val_loss: 50172.3125\n",
            "Epoch 3/10\n",
            "250/250 [==============================] - 49s 195ms/step - loss: 50174.1484 - val_loss: 50172.3125\n",
            "Epoch 4/10\n",
            "250/250 [==============================] - 50s 199ms/step - loss: 50174.1641 - val_loss: 50172.3125\n",
            "Epoch 5/10\n",
            "250/250 [==============================] - 49s 196ms/step - loss: 50174.1562 - val_loss: 50172.3125\n",
            "Epoch 6/10\n",
            "250/250 [==============================] - 49s 196ms/step - loss: 50174.1680 - val_loss: 50172.3125\n",
            "Epoch 7/10\n",
            "250/250 [==============================] - 51s 202ms/step - loss: 50174.1562 - val_loss: 50172.3125\n",
            "Epoch 8/10\n",
            "250/250 [==============================] - 49s 196ms/step - loss: 50174.1523 - val_loss: 50172.3125\n",
            "Epoch 9/10\n",
            "250/250 [==============================] - 49s 195ms/step - loss: 50174.1602 - val_loss: 50172.3125\n",
            "Epoch 10/10\n",
            "250/250 [==============================] - 49s 195ms/step - loss: 50174.1602 - val_loss: 50172.3125\n"
          ]
        },
        {
          "output_type": "execute_result",
          "data": {
            "text/plain": [
              "<keras.callbacks.History at 0x7f1f3bc4eb90>"
            ]
          },
          "metadata": {},
          "execution_count": 237
        }
      ]
    }
  ]
}